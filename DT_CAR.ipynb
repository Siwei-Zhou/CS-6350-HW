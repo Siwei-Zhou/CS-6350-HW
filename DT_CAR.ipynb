{
 "cells": [
  {
   "cell_type": "code",
   "execution_count": 69,
   "metadata": {},
   "outputs": [
    {
     "name": "stdout",
     "output_type": "stream",
     "text": [
      "[['buying', 'maint', 'doors', 'persons', 'lug_boot', 'safety', 'label'], ['low', 'vhigh', '4', '4', 'big', 'med', 'acc'], ['low', 'high', '5more', '4', 'med', 'high', 'vgood'], ['vhigh', 'med', '2', '2', 'big', 'high', 'unacc'], ['high', 'high', '2', '2', 'small', 'high', 'unacc'], ['vhigh', 'low', '3', '2', 'big', 'low', 'unacc'], ['high', 'high', '3', '4', 'med', 'low', 'unacc'], ['low', 'vhigh', '2', '2', 'big', 'med', 'unacc'], ['vhigh', 'vhigh', '5more', 'more', 'small', 'low', 'unacc'], ['vhigh', 'med', '2', '2', 'small', 'med', 'unacc'], ['med', 'high', '4', '2', 'med', 'low', 'unacc'], ['low', 'high', '2', 'more', 'small', 'high', 'unacc'], ['high', 'vhigh', '4', '2', 'small', 'high', 'unacc'], ['vhigh', 'high', '3', '2', 'small', 'med', 'unacc'], ['med', 'med', '3', '4', 'med', 'low', 'unacc'], ['high', 'high', '3', 'more', 'med', 'med', 'acc'], ['high', 'vhigh', '2', '4', 'big', 'med', 'unacc'], ['low', 'med', '2', '2', 'med', 'med', 'unacc'], ['vhigh', 'vhigh', '2', '4', 'small', 'low', 'unacc'], ['high', 'high', '3', '2', 'med', 'low', 'unacc'], ['low', 'high', '5more', '4', 'big', 'low', 'unacc'], ['vhigh', 'med', '3', '4', 'med', 'low', 'unacc'], ['vhigh', 'vhigh', '4', '4', 'big', 'high', 'unacc'], ['high', 'high', '5more', '4', 'small', 'med', 'unacc'], ['vhigh', 'med', '4', '2', 'small', 'high', 'unacc'], ['vhigh', 'med', '5more', 'more', 'small', 'low', 'unacc'], ['high', 'vhigh', '2', 'more', 'small', 'med', 'unacc'], ['high', 'high', '4', 'more', 'med', 'med', 'acc'], ['vhigh', 'high', '4', '4', 'big', 'low', 'unacc'], ['high', 'high', '3', '2', 'med', 'high', 'unacc'], ['med', 'vhigh', '2', 'more', 'med', 'high', 'acc'], ['high', 'vhigh', '4', 'more', 'small', 'high', 'unacc'], ['vhigh', 'vhigh', '4', 'more', 'small', 'high', 'unacc'], ['high', 'low', '2', '2', 'small', 'med', 'unacc'], ['med', 'vhigh', '2', 'more', 'big', 'high', 'acc'], ['vhigh', 'low', '3', '4', 'big', 'low', 'unacc'], ['med', 'high', '3', '2', 'med', 'low', 'unacc'], ['med', 'vhigh', '2', 'more', 'small', 'med', 'unacc'], ['low', 'vhigh', '4', '2', 'small', 'high', 'unacc'], ['high', 'med', '2', 'more', 'med', 'high', 'acc'], ['vhigh', 'high', '4', '4', 'med', 'med', 'unacc'], ['high', 'med', '5more', '2', 'med', 'high', 'unacc'], ['med', 'vhigh', '3', '2', 'med', 'high', 'unacc'], ['high', 'high', '2', '4', 'small', 'med', 'unacc'], ['vhigh', 'low', '3', '4', 'small', 'med', 'unacc'], ['low', 'med', '4', '2', 'med', 'low', 'unacc'], ['med', 'med', '5more', '2', 'big', 'med', 'unacc'], ['low', 'vhigh', '3', '4', 'med', 'low', 'unacc'], ['high', 'low', '5more', '4', 'big', 'high', 'acc'], ['high', 'high', '4', 'more', 'med', 'high', 'acc'], ['high', 'med', '5more', '4', 'med', 'high', 'acc'], ['low', 'med', '4', 'more', 'small', 'high', 'good'], ['vhigh', 'low', '5more', 'more', 'med', 'med', 'acc'], ['high', 'high', '5more', '4', 'med', 'med', 'acc'], ['high', 'vhigh', '5more', '4', 'small', 'high', 'unacc'], ['vhigh', 'vhigh', '5more', 'more', 'small', 'high', 'unacc'], ['low', 'med', '5more', 'more', 'big', 'low', 'unacc'], ['med', 'low', '5more', '2', 'small', 'low', 'unacc'], ['vhigh', 'med', '2', '4', 'big', 'low', 'unacc'], ['high', 'med', '5more', '2', 'big', 'low', 'unacc'], ['low', 'med', '3', '4', 'med', 'high', 'good'], ['high', 'med', '4', '4', 'small', 'low', 'unacc'], ['high', 'med', '3', '4', 'big', 'med', 'acc'], ['med', 'low', '2', 'more', 'small', 'low', 'unacc'], ['low', 'med', '2', '4', 'big', 'high', 'vgood'], ['med', 'vhigh', '4', '2', 'small', 'high', 'unacc'], ['high', 'high', '4', '2', 'med', 'low', 'unacc'], ['vhigh', 'low', '3', '2', 'med', 'low', 'unacc'], ['vhigh', 'high', '3', 'more', 'med', 'low', 'unacc'], ['med', 'med', '4', 'more', 'big', 'high', 'vgood'], ['med', 'vhigh', '3', 'more', 'big', 'low', 'unacc'], ['med', 'high', '5more', '2', 'med', 'low', 'unacc'], ['low', 'high', '3', '2', 'med', 'high', 'unacc'], ['vhigh', 'low', '2', '2', 'med', 'high', 'unacc'], ['vhigh', 'vhigh', '4', 'more', 'big', 'high', 'unacc'], ['med', 'low', '4', '2', 'big', 'low', 'unacc'], ['vhigh', 'low', '4', 'more', 'big', 'high', 'acc'], ['high', 'vhigh', '5more', 'more', 'small', 'med', 'unacc'], ['vhigh', 'med', '3', '2', 'big', 'low', 'unacc'], ['med', 'vhigh', '4', '4', 'med', 'high', 'acc'], ['low', 'med', '3', '4', 'big', 'high', 'vgood'], ['low', 'med', '5more', '4', 'big', 'high', 'vgood'], ['low', 'low', '4', 'more', 'big', 'low', 'unacc'], ['med', 'vhigh', '3', '2', 'med', 'low', 'unacc'], ['med', 'vhigh', '3', '4', 'small', 'low', 'unacc'], ['vhigh', 'low', '3', 'more', 'med', 'med', 'acc'], ['low', 'low', '5more', '2', 'big', 'med', 'unacc'], ['low', 'vhigh', '5more', 'more', 'small', 'low', 'unacc'], ['high', 'high', '5more', '4', 'med', 'high', 'acc'], ['med', 'vhigh', '3', 'more', 'big', 'high', 'acc'], ['low', 'high', '5more', '2', 'big', 'high', 'unacc'], ['high', 'med', '3', 'more', 'small', 'med', 'unacc'], ['vhigh', 'vhigh', '4', 'more', 'med', 'med', 'unacc'], ['med', 'high', '5more', 'more', 'med', 'low', 'unacc'], ['low', 'high', '4', 'more', 'small', 'high', 'acc'], ['low', 'low', '3', '2', 'small', 'high', 'unacc'], ['high', 'low', '5more', 'more', 'med', 'med', 'acc'], ['med', 'high', '4', '4', 'small', 'low', 'unacc'], ['high', 'low', '2', '2', 'med', 'high', 'unacc'], ['high', 'high', '4', 'more', 'big', 'med', 'acc'], ['low', 'high', '3', '4', 'med', 'high', 'acc'], ['low', 'low', '3', 'more', 'big', 'med', 'good'], ['low', 'high', '3', 'more', 'med', 'med', 'acc'], ['vhigh', 'high', '2', 'more', 'med', 'med', 'unacc'], ['low', 'low', '4', '2', 'big', 'high', 'unacc'], ['high', 'med', '4', 'more', 'big', 'med', 'acc'], ['med', 'low', '4', 'more', 'med', 'med', 'good'], ['high', 'med', '3', '2', 'med', 'low', 'unacc'], ['low', 'high', '3', 'more', 'small', 'med', 'acc'], ['vhigh', 'high', '3', 'more', 'small', 'low', 'unacc'], ['med', 'low', '5more', 'more', 'med', 'med', 'good'], ['low', 'med', '2', '4', 'med', 'low', 'unacc'], ['vhigh', 'low', '3', '4', 'small', 'low', 'unacc'], ['med', 'vhigh', '5more', 'more', 'big', 'high', 'acc'], ['vhigh', 'med', '2', 'more', 'med', 'med', 'unacc'], ['low', 'high', '2', 'more', 'big', 'med', 'acc'], ['low', 'vhigh', '2', 'more', 'small', 'high', 'unacc'], ['high', 'vhigh', '5more', 'more', 'big', 'low', 'unacc'], ['vhigh', 'high', '2', '4', 'big', 'med', 'unacc'], ['med', 'high', '5more', '4', 'big', 'high', 'acc'], ['med', 'high', '5more', 'more', 'small', 'low', 'unacc'], ['med', 'med', '3', 'more', 'med', 'high', 'vgood'], ['med', 'low', '5more', 'more', 'big', 'med', 'good'], ['vhigh', 'low', '4', 'more', 'small', 'med', 'unacc'], ['vhigh', 'med', '4', '4', 'big', 'low', 'unacc'], ['med', 'vhigh', '5more', 'more', 'big', 'low', 'unacc'], ['vhigh', 'low', '4', '2', 'med', 'med', 'unacc'], ['med', 'med', '2', 'more', 'big', 'low', 'unacc'], ['high', 'med', '2', '4', 'big', 'low', 'unacc'], ['low', 'low', '3', '2', 'small', 'med', 'unacc'], ['med', 'med', '3', '4', 'big', 'low', 'unacc'], ['vhigh', 'vhigh', '2', '2', 'big', 'med', 'unacc'], ['med', 'low', '3', '4', 'med', 'low', 'unacc'], ['vhigh', 'vhigh', '5more', '2', 'big', 'med', 'unacc'], ['med', 'low', '3', '4', 'small', 'low', 'unacc'], ['low', 'low', '2', 'more', 'big', 'med', 'good'], ['med', 'vhigh', '2', 'more', 'med', 'med', 'unacc'], ['high', 'high', '2', '2', 'big', 'high', 'unacc'], ['low', 'vhigh', '2', '4', 'big', 'high', 'acc'], ['vhigh', 'vhigh', '4', '2', 'big', 'high', 'unacc'], ['med', 'high', '2', '4', 'small', 'high', 'acc'], ['low', 'low', '2', '4', 'med', 'med', 'acc'], ['med', 'med', '4', '4', 'small', 'med', 'acc'], ['high', 'vhigh', '4', '4', 'big', 'low', 'unacc'], ['vhigh', 'high', '3', '4', 'med', 'med', 'unacc'], ['med', 'low', '4', '2', 'med', 'high', 'unacc'], ['low', 'high', '3', '4', 'big', 'high', 'vgood'], ['med', 'low', '2', '4', 'big', 'low', 'unacc'], ['vhigh', 'med', '4', 'more', 'big', 'high', 'acc'], ['high', 'low', '3', '2', 'big', 'low', 'unacc'], ['high', 'vhigh', '2', '4', 'small', 'high', 'unacc'], ['med', 'med', '2', '2', 'small', 'med', 'unacc'], ['med', 'vhigh', '4', 'more', 'big', 'low', 'unacc'], ['low', 'high', '4', '4', 'small', 'low', 'unacc'], ['low', 'med', '2', 'more', 'small', 'high', 'unacc'], ['low', 'med', '5more', '2', 'big', 'med', 'unacc'], ['med', 'low', '3', 'more', 'med', 'low', 'unacc'], ['med', 'low', '5more', 'more', 'small', 'low', 'unacc'], ['low', 'vhigh', '4', '4', 'med', 'med', 'acc'], ['vhigh', 'high', '2', '4', 'med', 'med', 'unacc'], ['high', 'low', '4', '2', 'med', 'low', 'unacc'], ['med', 'low', '4', '4', 'big', 'low', 'unacc'], ['high', 'med', '4', '2', 'med', 'high', 'unacc'], ['high', 'med', '3', 'more', 'med', 'med', 'acc'], ['high', 'med', '5more', '2', 'med', 'med', 'unacc'], ['vhigh', 'high', '3', '4', 'small', 'med', 'unacc'], ['vhigh', 'high', '3', '2', 'big', 'med', 'unacc'], ['low', 'high', '5more', 'more', 'big', 'high', 'vgood'], ['low', 'vhigh', '2', 'more', 'big', 'high', 'acc'], ['low', 'low', '5more', '2', 'med', 'low', 'unacc'], ['vhigh', 'high', '2', '2', 'small', 'high', 'unacc'], ['high', 'med', '5more', 'more', 'big', 'high', 'acc'], ['med', 'low', '4', '4', 'med', 'low', 'unacc'], ['high', 'high', '5more', 'more', 'med', 'high', 'acc'], ['low', 'vhigh', '2', 'more', 'big', 'med', 'acc'], ['high', 'med', '2', '2', 'med', 'med', 'unacc'], ['med', 'high', '3', '4', 'med', 'low', 'unacc'], ['vhigh', 'high', '3', '2', 'big', 'low', 'unacc'], ['high', 'low', '5more', '2', 'big', 'low', 'unacc'], ['med', 'vhigh', '2', '4', 'small', 'med', 'unacc'], ['vhigh', 'high', '4', '2', 'med', 'low', 'unacc'], ['vhigh', 'med', '4', '2', 'big', 'low', 'unacc'], ['low', 'low', '2', '2', 'small', 'low', 'unacc'], ['med', 'vhigh', '2', '4', 'med', 'med', 'unacc'], ['high', 'low', '2', '2', 'med', 'med', 'unacc'], ['high', 'high', '4', '2', 'small', 'low', 'unacc'], ['low', 'vhigh', '5more', '2', 'big', 'med', 'unacc'], ['high', 'vhigh', '5more', '4', 'small', 'med', 'unacc'], ['high', 'med', '3', 'more', 'big', 'med', 'acc'], ['vhigh', 'low', '5more', '2', 'big', 'med', 'unacc'], ['med', 'med', '4', 'more', 'small', 'med', 'acc'], ['vhigh', 'vhigh', '3', 'more', 'small', 'low', 'unacc'], ['med', 'med', '2', 'more', 'med', 'high', 'acc'], ['vhigh', 'high', '3', '4', 'med', 'low', 'unacc'], ['high', 'low', '5more', '2', 'big', 'high', 'unacc'], ['vhigh', 'low', '3', '4', 'med', 'high', 'acc'], ['high', 'med', '4', 'more', 'med', 'med', 'acc'], ['high', 'low', '5more', '4', 'small', 'low', 'unacc'], ['high', 'vhigh', '5more', '2', 'med', 'high', 'unacc'], ['high', 'high', '2', '2', 'small', 'med', 'unacc'], ['low', 'high', '4', '2', 'small', 'high', 'unacc'], ['high', 'low', '2', 'more', 'big', 'med', 'acc'], ['vhigh', 'med', '3', '4', 'small', 'low', 'unacc'], ['vhigh', 'high', '5more', '2', 'small', 'med', 'unacc'], ['high', 'vhigh', '5more', '2', 'small', 'med', 'unacc'], ['med', 'low', '3', '2', 'med', 'low', 'unacc'], ['med', 'med', '5more', '2', 'small', 'low', 'unacc'], ['med', 'med', '5more', 'more', 'big', 'med', 'acc'], ['high', 'high', '2', '4', 'med', 'med', 'unacc'], ['vhigh', 'low', '5more', '2', 'med', 'med', 'unacc'], ['med', 'vhigh', '5more', '2', 'small', 'high', 'unacc'], ['vhigh', 'low', '2', 'more', 'small', 'low', 'unacc'], ['low', 'high', '3', '4', 'med', 'low', 'unacc'], ['high', 'vhigh', '2', '4', 'small', 'med', 'unacc'], ['med', 'high', '3', '2', 'small', 'high', 'unacc'], ['low', 'vhigh', '5more', '2', 'med', 'low', 'unacc'], ['low', 'high', '2', '4', 'small', 'low', 'unacc'], ['vhigh', 'vhigh', '2', 'more', 'big', 'med', 'unacc'], ['vhigh', 'low', '3', 'more', 'small', 'med', 'unacc'], ['low', 'low', '5more', 'more', 'big', 'med', 'good'], ['med', 'vhigh', '4', 'more', 'big', 'med', 'acc'], ['med', 'vhigh', '5more', '2', 'big', 'med', 'unacc'], ['low', 'med', '4', '4', 'med', 'med', 'good'], ['high', 'vhigh', '5more', 'more', 'big', 'high', 'unacc'], ['med', 'high', '4', '4', 'big', 'high', 'acc'], ['med', 'med', '4', '4', 'med', 'med', 'acc'], ['med', 'vhigh', '3', '2', 'small', 'low', 'unacc'], ['vhigh', 'vhigh', '3', '4', 'med', 'med', 'unacc'], ['med', 'vhigh', '2', '2', 'big', 'low', 'unacc'], ['vhigh', 'high', '2', '2', 'small', 'low', 'unacc'], ['high', 'high', '4', '2', 'big', 'low', 'unacc'], ['low', 'med', '2', '4', 'big', 'low', 'unacc'], ['vhigh', 'med', '3', '2', 'med', 'med', 'unacc'], ['med', 'high', '5more', '4', 'big', 'med', 'acc'], ['vhigh', 'high', '4', '2', 'med', 'high', 'unacc'], ['med', 'high', '4', '2', 'big', 'low', 'unacc'], ['low', 'med', '2', 'more', 'med', 'med', 'acc'], ['high', 'med', '5more', '2', 'big', 'high', 'unacc'], ['low', 'vhigh', '4', 'more', 'big', 'med', 'acc'], ['vhigh', 'high', '2', 'more', 'med', 'low', 'unacc'], ['vhigh', 'low', '2', '2', 'med', 'med', 'unacc'], ['med', 'vhigh', '5more', 'more', 'small', 'high', 'acc'], ['high', 'high', '4', '2', 'med', 'med', 'unacc'], ['med', 'med', '2', '2', 'big', 'med', 'unacc'], ['vhigh', 'med', '2', '4', 'small', 'low', 'unacc'], ['high', 'vhigh', '4', '4', 'med', 'low', 'unacc'], ['low', 'low', '5more', '2', 'small', 'high', 'unacc'], ['high', 'low', '2', '4', 'small', 'med', 'unacc'], ['vhigh', 'med', '5more', '4', 'big', 'low', 'unacc'], ['high', 'vhigh', '3', '4', 'small', 'med', 'unacc'], ['vhigh', 'high', '3', '4', 'big', 'high', 'unacc'], ['high', 'low', '5more', 'more', 'med', 'low', 'unacc'], ['high', 'med', '4', '4', 'med', 'med', 'acc'], ['vhigh', 'low', '5more', 'more', 'big', 'med', 'acc'], ['med', 'high', '4', 'more', 'small', 'low', 'unacc'], ['low', 'high', '2', 'more', 'small', 'med', 'unacc'], ['med', 'high', '3', 'more', 'med', 'low', 'unacc'], ['vhigh', 'med', '5more', '2', 'small', 'med', 'unacc'], ['low', 'low', '4', '2', 'med', 'med', 'unacc'], ['low', 'vhigh', '3', '4', 'med', 'high', 'acc'], ['vhigh', 'high', '5more', 'more', 'big', 'low', 'unacc'], ['med', 'low', '4', '4', 'small', 'high', 'good'], ['vhigh', 'vhigh', '2', '2', 'med', 'low', 'unacc'], ['vhigh', 'med', '3', 'more', 'med', 'low', 'unacc'], ['med', 'med', '4', '4', 'big', 'med', 'acc'], ['vhigh', 'high', '4', '2', 'big', 'high', 'unacc'], ['high', 'low', '4', 'more', 'big', 'low', 'unacc'], ['low', 'med', '5more', '4', 'med', 'high', 'vgood'], ['vhigh', 'med', '2', 'more', 'med', 'high', 'acc'], ['high', 'med', '3', '4', 'small', 'med', 'unacc'], ['vhigh', 'low', '3', '2', 'small', 'med', 'unacc'], ['med', 'med', '4', '4', 'med', 'high', 'vgood'], ['vhigh', 'high', '5more', 'more', 'big', 'med', 'unacc'], ['low', 'low', '4', 'more', 'big', 'med', 'good'], ['med', 'high', '2', '2', 'med', 'low', 'unacc'], ['high', 'low', '4', '4', 'big', 'med', 'acc'], ['vhigh', 'low', '4', '2', 'small', 'low', 'unacc'], ['med', 'low', '5more', 'more', 'big', 'high', 'vgood'], ['med', 'vhigh', '4', '2', 'big', 'low', 'unacc'], ['vhigh', 'med', '2', 'more', 'small', 'med', 'unacc'], ['low', 'low', '2', '2', 'small', 'high', 'unacc'], ['low', 'vhigh', '5more', '4', 'big', 'low', 'unacc'], ['low', 'vhigh', '5more', '4', 'small', 'med', 'unacc'], ['high', 'med', '2', '2', 'big', 'high', 'unacc'], ['low', 'high', '4', '4', 'big', 'high', 'vgood'], ['low', 'vhigh', '3', '2', 'big', 'med', 'unacc'], ['low', 'med', '3', '4', 'small', 'high', 'good'], ['vhigh', 'low', '5more', '4', 'small', 'high', 'acc'], ['med', 'vhigh', '2', '4', 'med', 'high', 'acc'], ['med', 'med', '2', 'more', 'small', 'low', 'unacc'], ['vhigh', 'low', '2', '4', 'med', 'med', 'unacc'], ['vhigh', 'med', '3', 'more', 'big', 'high', 'acc'], ['high', 'low', '2', '2', 'small', 'high', 'unacc'], ['vhigh', 'high', '2', '4', 'big', 'low', 'unacc'], ['vhigh', 'vhigh', '3', '2', 'small', 'med', 'unacc'], ['high', 'med', '2', 'more', 'small', 'med', 'unacc'], ['high', 'med', '4', '4', 'med', 'high', 'acc'], ['med', 'med', '5more', '4', 'med', 'med', 'acc'], ['high', 'vhigh', '4', '2', 'big', 'high', 'unacc'], ['high', 'high', '5more', '2', 'big', 'high', 'unacc'], ['vhigh', 'vhigh', '4', '2', 'big', 'med', 'unacc'], ['vhigh', 'high', '4', 'more', 'big', 'high', 'unacc'], ['high', 'med', '2', '2', 'small', 'high', 'unacc'], ['vhigh', 'low', '5more', '4', 'big', 'med', 'acc'], ['low', 'vhigh', '2', '2', 'med', 'med', 'unacc'], ['vhigh', 'high', '2', 'more', 'small', 'high', 'unacc'], ['low', 'high', '3', 'more', 'big', 'low', 'unacc'], ['high', 'med', '3', '2', 'big', 'low', 'unacc'], ['low', 'vhigh', '5more', '4', 'big', 'med', 'acc'], ['med', 'high', '4', 'more', 'small', 'med', 'unacc'], ['low', 'vhigh', '4', '4', 'med', 'low', 'unacc'], ['high', 'high', '2', '2', 'small', 'low', 'unacc'], ['low', 'high', '3', '2', 'small', 'high', 'unacc'], ['med', 'med', '4', '4', 'big', 'high', 'vgood'], ['med', 'high', '3', 'more', 'big', 'low', 'unacc'], ['med', 'low', '4', '2', 'small', 'high', 'unacc'], ['med', 'low', '3', '4', 'big', 'med', 'good'], ['high', 'high', '5more', 'more', 'small', 'med', 'unacc'], ['vhigh', 'low', '4', '4', 'big', 'low', 'unacc'], ['high', 'vhigh', '3', '2', 'small', 'low', 'unacc'], ['med', 'low', '4', '2', 'big', 'med', 'unacc'], ['high', 'vhigh', '3', 'more', 'small', 'high', 'unacc'], ['med', 'low', '4', '2', 'small', 'low', 'unacc'], ['high', 'vhigh', '3', '2', 'med', 'med', 'unacc'], ['high', 'high', '2', '4', 'big', 'med', 'acc'], ['high', 'high', '2', 'more', 'big', 'med', 'acc'], ['vhigh', 'high', '4', 'more', 'med', 'high', 'unacc'], ['high', 'low', '4', '4', 'med', 'high', 'acc'], ['vhigh', 'vhigh', '2', '4', 'med', 'low', 'unacc'], ['high', 'med', '2', 'more', 'big', 'high', 'acc'], ['high', 'low', '2', '4', 'small', 'low', 'unacc'], ['med', 'med', '3', '2', 'med', 'med', 'unacc'], ['vhigh', 'vhigh', '3', 'more', 'small', 'med', 'unacc'], ['vhigh', 'vhigh', '2', '4', 'big', 'low', 'unacc'], ['high', 'vhigh', '5more', '4', 'big', 'low', 'unacc'], ['med', 'vhigh', '4', '4', 'big', 'med', 'acc'], ['high', 'high', '2', '4', 'big', 'high', 'acc'], ['high', 'med', '5more', 'more', 'med', 'med', 'acc'], ['vhigh', 'high', '5more', 'more', 'big', 'high', 'unacc'], ['med', 'med', '4', '2', 'small', 'low', 'unacc'], ['med', 'low', '5more', '2', 'med', 'med', 'unacc'], ['vhigh', 'med', '3', '4', 'med', 'med', 'unacc'], ['med', 'vhigh', '4', '2', 'med', 'high', 'unacc'], ['vhigh', 'vhigh', '4', '2', 'big', 'low', 'unacc'], ['high', 'vhigh', '3', 'more', 'small', 'low', 'unacc'], ['vhigh', 'high', '4', '4', 'small', 'med', 'unacc'], ['low', 'high', '5more', '4', 'med', 'med', 'acc'], ['low', 'vhigh', '5more', 'more', 'small', 'med', 'unacc'], ['low', 'vhigh', '2', '4', 'small', 'med', 'unacc'], ['vhigh', 'low', '3', 'more', 'big', 'low', 'unacc'], ['low', 'high', '2', 'more', 'big', 'low', 'unacc'], ['low', 'med', '5more', '2', 'big', 'low', 'unacc'], ['low', 'low', '5more', '2', 'med', 'med', 'unacc'], ['med', 'low', '2', 'more', 'med', 'high', 'good'], ['high', 'vhigh', '2', '2', 'big', 'high', 'unacc'], ['high', 'low', '3', '4', 'small', 'med', 'unacc'], ['vhigh', 'low', '2', '2', 'med', 'low', 'unacc'], ['vhigh', 'low', '4', '2', 'small', 'high', 'unacc'], ['low', 'low', '5more', 'more', 'small', 'high', 'good'], ['high', 'high', '5more', '2', 'big', 'low', 'unacc'], ['high', 'high', '4', 'more', 'small', 'high', 'acc'], ['low', 'med', '3', 'more', 'big', 'low', 'unacc'], ['high', 'low', '3', '4', 'med', 'high', 'acc'], ['high', 'low', '2', '4', 'med', 'low', 'unacc'], ['vhigh', 'high', '4', '2', 'big', 'low', 'unacc'], ['high', 'med', '3', 'more', 'small', 'low', 'unacc'], ['low', 'med', '2', '2', 'small', 'low', 'unacc'], ['high', 'vhigh', '5more', 'more', 'small', 'high', 'unacc'], ['vhigh', 'low', '4', '4', 'small', 'high', 'acc'], ['low', 'med', '2', '4', 'small', 'high', 'good'], ['med', 'high', '2', '2', 'small', 'high', 'unacc'], ['low', 'low', '2', 'more', 'med', 'med', 'acc'], ['med', 'med', '3', 'more', 'small', 'med', 'acc'], ['vhigh', 'high', '2', 'more', 'big', 'low', 'unacc'], ['low', 'med', '3', '2', 'small', 'med', 'unacc'], ['high', 'low', '3', '4', 'med', 'med', 'unacc'], ['vhigh', 'high', '5more', '2', 'med', 'med', 'unacc'], ['low', 'med', '4', '4', 'small', 'high', 'good'], ['high', 'vhigh', '4', 'more', 'med', 'high', 'unacc'], ['med', 'high', '2', '2', 'small', 'med', 'unacc'], ['high', 'med', '5more', 'more', 'med', 'low', 'unacc'], ['low', 'vhigh', '4', '2', 'big', 'low', 'unacc'], ['high', 'low', '5more', '2', 'med', 'high', 'unacc'], ['low', 'high', '3', '2', 'big', 'low', 'unacc'], ['vhigh', 'high', '4', 'more', 'big', 'low', 'unacc'], ['low', 'vhigh', '4', '4', 'big', 'low', 'unacc'], ['high', 'med', '3', '4', 'small', 'low', 'unacc'], ['high', 'low', '3', '4', 'med', 'low', 'unacc'], ['med', 'med', '3', '2', 'small', 'low', 'unacc'], ['med', 'med', '5more', '4', 'small', 'med', 'acc'], ['vhigh', 'high', '5more', '4', 'small', 'med', 'unacc'], ['vhigh', 'low', '2', '2', 'small', 'high', 'unacc'], ['high', 'low', '2', 'more', 'med', 'med', 'unacc'], ['vhigh', 'vhigh', '2', 'more', 'small', 'low', 'unacc'], ['high', 'vhigh', '4', '2', 'med', 'low', 'unacc'], ['low', 'high', '2', '2', 'med', 'low', 'unacc'], ['vhigh', 'vhigh', '5more', '4', 'big', 'med', 'unacc'], ['med', 'med', '5more', '2', 'big', 'high', 'unacc'], ['med', 'vhigh', '5more', '4', 'big', 'low', 'unacc'], ['med', 'med', '2', '2', 'small', 'high', 'unacc'], ['high', 'low', '5more', '2', 'big', 'med', 'unacc'], ['low', 'low', '5more', '2', 'med', 'high', 'unacc'], ['vhigh', 'vhigh', '2', 'more', 'small', 'med', 'unacc'], ['med', 'low', '2', '4', 'med', 'med', 'acc'], ['high', 'high', '3', 'more', 'big', 'high', 'acc'], ['low', 'high', '5more', 'more', 'small', 'high', 'acc'], ['med', 'med', '5more', '2', 'med', 'low', 'unacc'], ['med', 'med', '2', '4', 'small', 'med', 'acc'], ['vhigh', 'med', '3', 'more', 'med', 'high', 'acc'], ['vhigh', 'vhigh', '3', '2', 'big', 'low', 'unacc'], ['low', 'vhigh', '3', '2', 'med', 'med', 'unacc'], ['high', 'low', '4', 'more', 'med', 'high', 'acc'], ['low', 'high', '2', '2', 'big', 'high', 'unacc'], ['low', 'med', '4', 'more', 'big', 'med', 'good'], ['high', 'high', '3', '4', 'small', 'low', 'unacc'], ['low', 'high', '4', 'more', 'small', 'low', 'unacc'], ['vhigh', 'high', '3', 'more', 'med', 'med', 'unacc'], ['low', 'med', '4', '4', 'med', 'high', 'vgood'], ['low', 'high', '2', '2', 'big', 'low', 'unacc'], ['high', 'high', '4', '4', 'big', 'low', 'unacc'], ['vhigh', 'med', '2', '4', 'med', 'low', 'unacc'], ['vhigh', 'vhigh', '3', '2', 'med', 'low', 'unacc'], ['med', 'vhigh', '5more', '2', 'small', 'low', 'unacc'], ['low', 'med', '5more', 'more', 'small', 'low', 'unacc'], ['high', 'vhigh', '5more', 'more', 'med', 'low', 'unacc'], ['high', 'vhigh', '5more', '2', 'big', 'low', 'unacc'], ['high', 'low', '4', '4', 'big', 'low', 'unacc'], ['high', 'med', '3', '2', 'med', 'high', 'unacc'], ['low', 'vhigh', '4', 'more', 'med', 'med', 'acc'], ['vhigh', 'med', '4', 'more', 'small', 'med', 'unacc'], ['low', 'med', '5more', 'more', 'small', 'med', 'acc'], ['vhigh', 'high', '4', '2', 'small', 'med', 'unacc'], ['low', 'low', '5more', '2', 'small', 'low', 'unacc'], ['low', 'high', '2', '2', 'small', 'low', 'unacc'], ['vhigh', 'med', '4', '2', 'big', 'med', 'unacc'], ['low', 'low', '5more', '4', 'small', 'med', 'acc'], ['vhigh', 'low', '3', '2', 'big', 'high', 'unacc'], ['low', 'med', '3', '2', 'big', 'med', 'unacc'], ['med', 'high', '2', 'more', 'small', 'low', 'unacc'], ['vhigh', 'vhigh', '3', 'more', 'small', 'high', 'unacc'], ['med', 'med', '2', '4', 'big', 'high', 'vgood'], ['low', 'high', '2', '4', 'med', 'med', 'acc'], ['low', 'low', '4', 'more', 'small', 'med', 'acc'], ['med', 'vhigh', '2', '2', 'small', 'high', 'unacc'], ['vhigh', 'med', '2', '2', 'big', 'med', 'unacc'], ['high', 'high', '5more', '2', 'med', 'med', 'unacc'], ['high', 'low', '5more', '4', 'big', 'low', 'unacc'], ['high', 'high', '4', '4', 'med', 'high', 'acc'], ['high', 'low', '5more', 'more', 'small', 'low', 'unacc'], ['high', 'low', '2', 'more', 'small', 'med', 'unacc'], ['low', 'high', '3', '2', 'small', 'med', 'unacc'], ['med', 'low', '4', '4', 'big', 'high', 'vgood'], ['high', 'high', '5more', 'more', 'small', 'low', 'unacc'], ['med', 'med', '5more', 'more', 'med', 'med', 'acc'], ['low', 'low', '4', '4', 'med', 'high', 'vgood'], ['high', 'vhigh', '2', '2', 'small', 'med', 'unacc'], ['med', 'med', '4', '2', 'small', 'med', 'unacc'], ['low', 'low', '4', 'more', 'small', 'low', 'unacc'], ['vhigh', 'vhigh', '3', 'more', 'big', 'high', 'unacc'], ['high', 'low', '2', 'more', 'med', 'low', 'unacc'], ['high', 'med', '3', '4', 'big', 'low', 'unacc'], ['high', 'high', '3', '4', 'med', 'high', 'acc'], ['low', 'med', '3', 'more', 'big', 'med', 'good'], ['med', 'vhigh', '3', '2', 'big', 'med', 'unacc'], ['high', 'vhigh', '2', '2', 'med', 'med', 'unacc'], ['med', 'low', '2', '4', 'big', 'med', 'good'], ['vhigh', 'high', '2', 'more', 'small', 'med', 'unacc'], ['med', 'low', '2', '4', 'med', 'low', 'unacc'], ['high', 'low', '3', '4', 'small', 'low', 'unacc'], ['med', 'high', '2', 'more', 'big', 'high', 'acc'], ['high', 'low', '5more', '2', 'small', 'high', 'unacc'], ['vhigh', 'low', '2', '4', 'big', 'high', 'acc'], ['vhigh', 'high', '2', '2', 'big', 'high', 'unacc'], ['high', 'med', '2', 'more', 'med', 'low', 'unacc'], ['med', 'med', '4', '2', 'med', 'med', 'unacc'], ['high', 'high', '3', '4', 'big', 'med', 'acc'], ['vhigh', 'high', '5more', '4', 'small', 'high', 'unacc'], ['vhigh', 'vhigh', '5more', '2', 'small', 'high', 'unacc'], ['low', 'med', '4', 'more', 'small', 'med', 'acc'], ['high', 'vhigh', '5more', 'more', 'small', 'low', 'unacc'], ['med', 'low', '3', '4', 'med', 'high', 'good'], ['high', 'med', '2', '2', 'med', 'high', 'unacc'], ['high', 'vhigh', '5more', '2', 'big', 'high', 'unacc'], ['vhigh', 'vhigh', '4', 'more', 'small', 'low', 'unacc'], ['vhigh', 'high', '2', '4', 'small', 'low', 'unacc'], ['vhigh', 'high', '4', '4', 'big', 'med', 'unacc'], ['vhigh', 'med', '3', '4', 'small', 'high', 'acc'], ['low', 'low', '5more', 'more', 'big', 'high', 'vgood'], ['med', 'vhigh', '4', '4', 'small', 'low', 'unacc'], ['vhigh', 'med', '3', '2', 'big', 'med', 'unacc'], ['low', 'med', '3', 'more', 'big', 'high', 'vgood'], ['med', 'high', '3', 'more', 'small', 'low', 'unacc'], ['low', 'low', '2', '4', 'small', 'med', 'acc'], ['vhigh', 'med', '2', 'more', 'small', 'low', 'unacc'], ['high', 'vhigh', '4', 'more', 'med', 'med', 'unacc'], ['med', 'low', '3', '4', 'small', 'high', 'good'], ['med', 'low', '3', '2', 'big', 'med', 'unacc'], ['med', 'vhigh', '3', '4', 'med', 'high', 'acc'], ['low', 'med', '5more', '4', 'big', 'low', 'unacc'], ['high', 'med', '4', '4', 'big', 'med', 'acc'], ['med', 'low', '3', '2', 'med', 'high', 'unacc'], ['vhigh', 'vhigh', '4', '4', 'med', 'med', 'unacc'], ['low', 'med', '5more', '4', 'small', 'high', 'good'], ['high', 'low', '3', 'more', 'med', 'low', 'unacc'], ['med', 'high', '2', 'more', 'big', 'med', 'acc'], ['high', 'vhigh', '5more', '2', 'med', 'med', 'unacc'], ['high', 'vhigh', '4', '4', 'big', 'med', 'unacc'], ['high', 'low', '5more', 'more', 'big', 'med', 'acc'], ['vhigh', 'high', '5more', '2', 'med', 'high', 'unacc'], ['high', 'low', '2', 'more', 'med', 'high', 'acc'], ['vhigh', 'med', '5more', '2', 'med', 'high', 'unacc'], ['low', 'med', '2', '4', 'med', 'med', 'acc'], ['med', 'high', '2', 'more', 'med', 'med', 'unacc'], ['vhigh', 'vhigh', '3', '2', 'small', 'low', 'unacc'], ['vhigh', 'high', '4', 'more', 'med', 'low', 'unacc'], ['vhigh', 'high', '3', 'more', 'small', 'med', 'unacc'], ['low', 'vhigh', '5more', 'more', 'med', 'high', 'acc'], ['vhigh', 'high', '5more', 'more', 'med', 'med', 'unacc'], ['low', 'high', '4', 'more', 'med', 'low', 'unacc'], ['high', 'high', '2', 'more', 'big', 'high', 'acc'], ['med', 'vhigh', '5more', '4', 'big', 'med', 'acc'], ['med', 'high', '2', '2', 'med', 'high', 'unacc'], ['high', 'high', '5more', '4', 'big', 'med', 'acc'], ['vhigh', 'vhigh', '3', '4', 'med', 'high', 'unacc'], ['med', 'high', '4', 'more', 'med', 'high', 'acc'], ['vhigh', 'high', '3', '4', 'small', 'high', 'unacc'], ['high', 'high', '4', '2', 'big', 'med', 'unacc'], ['high', 'low', '5more', '2', 'small', 'med', 'unacc'], ['vhigh', 'med', '2', '4', 'big', 'med', 'acc'], ['low', 'low', '2', '4', 'med', 'low', 'unacc'], ['med', 'high', '5more', '4', 'small', 'low', 'unacc'], ['low', 'med', '5more', '4', 'big', 'med', 'good'], ['vhigh', 'vhigh', '5more', '2', 'big', 'high', 'unacc'], ['low', 'low', '4', '4', 'med', 'med', 'good'], ['vhigh', 'med', '4', 'more', 'small', 'low', 'unacc'], ['low', 'low', '2', '4', 'big', 'med', 'good'], ['high', 'high', '3', '2', 'small', 'med', 'unacc'], ['med', 'high', '4', '4', 'med', 'high', 'acc'], ['med', 'high', '4', '4', 'big', 'med', 'acc'], ['vhigh', 'low', '3', '2', 'med', 'med', 'unacc'], ['low', 'med', '5more', 'more', 'med', 'high', 'vgood'], ['med', 'med', '4', '4', 'small', 'high', 'acc'], ['med', 'low', '5more', '2', 'small', 'med', 'unacc'], ['low', 'high', '3', '4', 'med', 'med', 'acc'], ['med', 'high', '4', '2', 'small', 'low', 'unacc'], ['med', 'vhigh', '2', '4', 'big', 'med', 'acc'], ['med', 'high', '5more', 'more', 'big', 'high', 'acc'], ['high', 'med', '4', '4', 'med', 'low', 'unacc'], ['high', 'high', '4', '2', 'med', 'high', 'unacc'], ['vhigh', 'med', '2', '4', 'med', 'high', 'acc'], ['low', 'high', '5more', '2', 'med', 'med', 'unacc'], ['med', 'med', '3', 'more', 'med', 'med', 'acc'], ['med', 'high', '5more', '4', 'med', 'low', 'unacc'], ['low', 'low', '3', 'more', 'med', 'med', 'good'], ['low', 'high', '4', '2', 'med', 'high', 'unacc'], ['vhigh', 'high', '3', 'more', 'big', 'med', 'unacc'], ['med', 'low', '3', 'more', 'med', 'med', 'good'], ['vhigh', 'med', '2', '2', 'med', 'med', 'unacc'], ['vhigh', 'vhigh', '4', '4', 'small', 'low', 'unacc'], ['med', 'low', '3', 'more', 'big', 'low', 'unacc'], ['low', 'high', '4', 'more', 'big', 'high', 'vgood'], ['vhigh', 'low', '5more', '4', 'med', 'high', 'acc'], ['med', 'med', '2', 'more', 'big', 'med', 'acc'], ['med', 'low', '5more', '4', 'big', 'med', 'good'], ['med', 'low', '2', 'more', 'small', 'high', 'unacc'], ['vhigh', 'vhigh', '5more', 'more', 'med', 'low', 'unacc'], ['low', 'vhigh', '4', 'more', 'small', 'high', 'acc'], ['vhigh', 'low', '4', '4', 'med', 'high', 'acc'], ['high', 'vhigh', '4', '4', 'small', 'low', 'unacc'], ['vhigh', 'high', '2', 'more', 'small', 'low', 'unacc'], ['high', 'low', '4', '2', 'med', 'high', 'unacc'], ['med', 'vhigh', '2', 'more', 'small', 'low', 'unacc'], ['med', 'high', '4', '2', 'med', 'high', 'unacc'], ['high', 'med', '2', '4', 'med', 'med', 'unacc'], ['vhigh', 'vhigh', '3', '4', 'small', 'low', 'unacc'], ['low', 'med', '5more', '2', 'med', 'low', 'unacc'], ['low', 'med', '3', 'more', 'small', 'high', 'good'], ['med', 'high', '5more', 'more', 'med', 'med', 'acc'], ['vhigh', 'low', '4', 'more', 'small', 'high', 'acc'], ['vhigh', 'med', '5more', 'more', 'big', 'high', 'acc'], ['med', 'med', '2', '2', 'med', 'high', 'unacc'], ['high', 'med', '3', '4', 'small', 'high', 'acc'], ['low', 'med', '4', '2', 'med', 'med', 'unacc'], ['med', 'low', '5more', '2', 'big', 'high', 'unacc'], ['low', 'low', '2', 'more', 'small', 'high', 'unacc'], ['vhigh', 'med', '4', 'more', 'med', 'med', 'acc'], ['vhigh', 'med', '5more', '2', 'big', 'low', 'unacc'], ['med', 'vhigh', '2', 'more', 'med', 'low', 'unacc'], ['vhigh', 'high', '3', '4', 'big', 'low', 'unacc'], ['high', 'med', '4', '2', 'med', 'low', 'unacc'], ['med', 'low', '4', '2', 'big', 'high', 'unacc'], ['med', 'low', '3', '4', 'big', 'high', 'vgood'], ['vhigh', 'vhigh', '5more', 'more', 'big', 'med', 'unacc'], ['med', 'med', '2', 'more', 'big', 'high', 'vgood'], ['vhigh', 'vhigh', '5more', '2', 'small', 'med', 'unacc'], ['high', 'low', '3', 'more', 'big', 'high', 'acc'], ['low', 'vhigh', '4', '2', 'big', 'med', 'unacc'], ['low', 'high', '4', '2', 'med', 'low', 'unacc'], ['med', 'high', '5more', '4', 'small', 'med', 'unacc'], ['med', 'high', '2', '4', 'big', 'low', 'unacc'], ['med', 'med', '5more', '4', 'big', 'high', 'vgood'], ['low', 'low', '2', 'more', 'small', 'med', 'unacc'], ['med', 'high', '2', 'more', 'small', 'med', 'unacc'], ['low', 'high', '2', '2', 'med', 'med', 'unacc'], ['high', 'med', '5more', '4', 'big', 'high', 'acc'], ['high', 'low', '5more', '4', 'small', 'med', 'unacc'], ['vhigh', 'low', '4', 'more', 'med', 'low', 'unacc'], ['high', 'high', '5more', '4', 'big', 'low', 'unacc'], ['vhigh', 'low', '2', 'more', 'med', 'low', 'unacc'], ['low', 'low', '4', '4', 'big', 'low', 'unacc'], ['low', 'vhigh', '3', 'more', 'small', 'high', 'acc'], ['med', 'low', '5more', 'more', 'med', 'high', 'vgood'], ['med', 'low', '2', '2', 'small', 'high', 'unacc'], ['high', 'vhigh', '4', 'more', 'big', 'high', 'unacc'], ['med', 'med', '3', '4', 'med', 'med', 'acc'], ['med', 'med', '2', '4', 'big', 'low', 'unacc'], ['low', 'vhigh', '2', '4', 'med', 'high', 'acc'], ['med', 'high', '4', '4', 'small', 'med', 'unacc'], ['high', 'low', '3', 'more', 'med', 'med', 'acc'], ['low', 'low', '2', '4', 'small', 'high', 'good'], ['vhigh', 'low', '4', '4', 'small', 'low', 'unacc'], ['vhigh', 'med', '2', 'more', 'big', 'high', 'acc'], ['med', 'vhigh', '2', '4', 'big', 'high', 'acc'], ['high', 'high', '3', '4', 'med', 'med', 'unacc'], ['high', 'vhigh', '4', '4', 'small', 'high', 'unacc'], ['low', 'high', '5more', '2', 'big', 'low', 'unacc'], ['med', 'low', '2', '2', 'small', 'low', 'unacc'], ['low', 'med', '2', '2', 'big', 'high', 'unacc'], ['vhigh', 'vhigh', '4', 'more', 'med', 'high', 'unacc'], ['vhigh', 'low', '5more', '2', 'med', 'high', 'unacc'], ['high', 'low', '2', 'more', 'big', 'high', 'acc'], ['low', 'high', '4', '2', 'small', 'med', 'unacc'], ['high', 'high', '2', '2', 'med', 'high', 'unacc'], ['high', 'med', '3', '2', 'small', 'high', 'unacc'], ['med', 'high', '4', 'more', 'big', 'high', 'acc'], ['low', 'med', '5more', '2', 'small', 'low', 'unacc'], ['low', 'high', '5more', '4', 'big', 'high', 'vgood'], ['vhigh', 'low', '5more', '4', 'med', 'low', 'unacc'], ['high', 'low', '5more', 'more', 'small', 'med', 'unacc'], ['high', 'high', '3', 'more', 'big', 'low', 'unacc'], ['high', 'high', '5more', 'more', 'small', 'high', 'acc'], ['vhigh', 'high', '4', 'more', 'big', 'med', 'unacc'], ['low', 'vhigh', '5more', 'more', 'big', 'low', 'unacc'], ['low', 'high', '3', 'more', 'med', 'low', 'unacc'], ['vhigh', 'med', '2', '2', 'big', 'low', 'unacc'], ['high', 'vhigh', '2', '2', 'med', 'high', 'unacc'], ['low', 'med', '5more', '2', 'small', 'high', 'unacc'], ['med', 'high', '4', '2', 'small', 'high', 'unacc'], ['low', 'med', '4', '2', 'small', 'med', 'unacc'], ['med', 'low', '4', 'more', 'small', 'low', 'unacc'], ['med', 'vhigh', '5more', '2', 'small', 'med', 'unacc'], ['low', 'vhigh', '3', 'more', 'med', 'high', 'acc'], ['high', 'high', '3', '2', 'small', 'high', 'unacc'], ['low', 'med', '3', 'more', 'small', 'med', 'acc'], ['high', 'low', '4', 'more', 'med', 'med', 'acc'], ['vhigh', 'med', '3', '2', 'small', 'low', 'unacc'], ['vhigh', 'low', '3', 'more', 'big', 'med', 'acc'], ['vhigh', 'med', '2', '2', 'small', 'low', 'unacc'], ['vhigh', 'high', '2', '4', 'med', 'low', 'unacc'], ['high', 'high', '3', 'more', 'big', 'med', 'acc'], ['low', 'high', '5more', 'more', 'med', 'med', 'acc'], ['high', 'low', '2', '4', 'big', 'med', 'acc'], ['vhigh', 'vhigh', '2', '4', 'small', 'high', 'unacc'], ['high', 'vhigh', '2', '4', 'big', 'high', 'unacc'], ['med', 'vhigh', '4', 'more', 'small', 'high', 'acc'], ['med', 'high', '3', '4', 'big', 'low', 'unacc'], ['high', 'vhigh', '2', '2', 'big', 'low', 'unacc'], ['vhigh', 'low', '4', 'more', 'small', 'low', 'unacc'], ['med', 'low', '4', '2', 'small', 'med', 'unacc'], ['med', 'vhigh', '3', '2', 'big', 'low', 'unacc'], ['med', 'vhigh', '2', '2', 'med', 'low', 'unacc'], ['low', 'vhigh', '2', 'more', 'big', 'low', 'unacc'], ['high', 'high', '5more', '4', 'small', 'low', 'unacc'], ['high', 'vhigh', '3', 'more', 'small', 'med', 'unacc'], ['vhigh', 'vhigh', '3', 'more', 'med', 'high', 'unacc'], ['high', 'vhigh', '3', '2', 'small', 'med', 'unacc'], ['low', 'med', '4', '2', 'big', 'high', 'unacc'], ['vhigh', 'low', '4', '2', 'big', 'med', 'unacc'], ['high', 'med', '5more', 'more', 'small', 'low', 'unacc'], ['vhigh', 'high', '5more', '2', 'small', 'high', 'unacc'], ['low', 'med', '4', '2', 'big', 'low', 'unacc'], ['med', 'low', '5more', 'more', 'small', 'med', 'acc'], ['med', 'low', '3', '2', 'small', 'high', 'unacc'], ['med', 'med', '4', 'more', 'small', 'low', 'unacc'], ['vhigh', 'high', '2', '4', 'med', 'high', 'unacc'], ['med', 'low', '4', '4', 'med', 'high', 'vgood'], ['high', 'vhigh', '3', '2', 'small', 'high', 'unacc'], ['vhigh', 'med', '3', '4', 'big', 'low', 'unacc'], ['high', 'high', '3', 'more', 'med', 'low', 'unacc'], ['med', 'high', '2', '2', 'big', 'low', 'unacc'], ['med', 'high', '4', '2', 'small', 'med', 'unacc'], ['low', 'vhigh', '3', '2', 'big', 'low', 'unacc'], ['med', 'low', '2', 'more', 'big', 'med', 'good'], ['high', 'med', '2', 'more', 'big', 'low', 'unacc'], ['vhigh', 'med', '2', '2', 'small', 'high', 'unacc'], ['med', 'low', '2', '2', 'med', 'high', 'unacc'], ['low', 'vhigh', '3', '4', 'big', 'high', 'acc'], ['low', 'med', '3', '4', 'small', 'med', 'acc'], ['low', 'vhigh', '5more', 'more', 'big', 'high', 'acc'], ['high', 'low', '5more', '4', 'big', 'med', 'acc'], ['low', 'low', '2', '4', 'small', 'low', 'unacc'], ['low', 'vhigh', '5more', '4', 'med', 'med', 'acc'], ['low', 'med', '3', '4', 'med', 'low', 'unacc'], ['vhigh', 'vhigh', '5more', '2', 'med', 'low', 'unacc'], ['med', 'high', '3', '2', 'small', 'low', 'unacc'], ['vhigh', 'med', '4', '2', 'med', 'high', 'unacc'], ['med', 'med', '3', '4', 'small', 'high', 'acc'], ['vhigh', 'low', '3', '2', 'small', 'low', 'unacc'], ['med', 'med', '2', '4', 'med', 'low', 'unacc'], ['low', 'vhigh', '5more', '2', 'med', 'med', 'unacc'], ['vhigh', 'low', '5more', 'more', 'med', 'high', 'acc'], ['vhigh', 'med', '5more', '2', 'big', 'high', 'unacc'], ['high', 'med', '5more', '4', 'big', 'low', 'unacc'], ['low', 'med', '2', '2', 'small', 'high', 'unacc'], ['vhigh', 'vhigh', '5more', '4', 'small', 'low', 'unacc'], ['med', 'high', '2', '2', 'big', 'high', 'unacc'], ['high', 'low', '3', 'more', 'big', 'med', 'acc'], ['med', 'high', '2', 'more', 'med', 'high', 'acc'], ['med', 'vhigh', '2', '2', 'small', 'med', 'unacc'], ['high', 'vhigh', '3', '4', 'small', 'low', 'unacc'], ['high', 'low', '4', 'more', 'small', 'med', 'unacc'], ['med', 'low', '2', '2', 'big', 'med', 'unacc'], ['high', 'med', '5more', '2', 'med', 'low', 'unacc'], ['high', 'low', '3', '2', 'med', 'high', 'unacc'], ['med', 'high', '5more', '4', 'small', 'high', 'acc'], ['low', 'low', '2', 'more', 'big', 'high', 'vgood'], ['vhigh', 'med', '3', '2', 'med', 'high', 'unacc'], ['low', 'low', '3', '4', 'med', 'med', 'acc'], ['high', 'vhigh', '4', '2', 'med', 'med', 'unacc'], ['high', 'vhigh', '3', 'more', 'med', 'low', 'unacc'], ['vhigh', 'med', '4', '4', 'small', 'low', 'unacc'], ['low', 'low', '5more', 'more', 'med', 'low', 'unacc'], ['med', 'vhigh', '3', '4', 'small', 'high', 'acc'], ['high', 'vhigh', '3', '4', 'big', 'med', 'unacc'], ['high', 'low', '4', '4', 'big', 'high', 'acc'], ['high', 'vhigh', '5more', '4', 'big', 'high', 'unacc'], ['vhigh', 'med', '4', '4', 'med', 'low', 'unacc'], ['vhigh', 'high', '3', '4', 'big', 'med', 'unacc'], ['low', 'high', '4', '2', 'big', 'high', 'unacc'], ['med', 'low', '5more', '4', 'small', 'low', 'unacc'], ['low', 'vhigh', '5more', '2', 'big', 'high', 'unacc'], ['med', 'vhigh', '2', '2', 'med', 'med', 'unacc'], ['high', 'low', '5more', '2', 'small', 'low', 'unacc'], ['med', 'vhigh', '4', '2', 'med', 'med', 'unacc'], ['vhigh', 'high', '2', '2', 'small', 'med', 'unacc'], ['high', 'low', '3', '2', 'med', 'med', 'unacc'], ['low', 'med', '2', '4', 'big', 'med', 'good'], ['low', 'low', '5more', '2', 'big', 'low', 'unacc'], ['low', 'low', '2', '4', 'big', 'low', 'unacc'], ['vhigh', 'high', '5more', '2', 'big', 'low', 'unacc'], ['med', 'high', '2', '4', 'med', 'low', 'unacc'], ['med', 'high', '2', '4', 'med', 'high', 'acc'], ['low', 'med', '2', 'more', 'big', 'med', 'good'], ['high', 'vhigh', '4', '4', 'med', 'med', 'unacc'], ['high', 'low', '4', '4', 'med', 'med', 'acc'], ['vhigh', 'high', '3', 'more', 'big', 'high', 'unacc'], ['low', 'med', '3', 'more', 'med', 'high', 'vgood'], ['vhigh', 'vhigh', '2', 'more', 'med', 'high', 'unacc'], ['low', 'med', '3', 'more', 'small', 'low', 'unacc'], ['med', 'high', '3', 'more', 'small', 'med', 'unacc'], ['low', 'vhigh', '5more', '2', 'med', 'high', 'unacc'], ['med', 'high', '4', '2', 'big', 'med', 'unacc'], ['high', 'vhigh', '3', '2', 'big', 'med', 'unacc'], ['med', 'vhigh', '3', 'more', 'small', 'low', 'unacc'], ['low', 'high', '4', '4', 'med', 'med', 'acc'], ['vhigh', 'low', '3', '2', 'big', 'med', 'unacc'], ['high', 'med', '2', 'more', 'small', 'low', 'unacc'], ['high', 'vhigh', '2', 'more', 'small', 'high', 'unacc'], ['vhigh', 'med', '4', '4', 'big', 'high', 'acc'], ['med', 'vhigh', '4', '4', 'big', 'high', 'acc'], ['low', 'low', '2', 'more', 'small', 'low', 'unacc'], ['vhigh', 'vhigh', '4', '4', 'small', 'med', 'unacc'], ['vhigh', 'low', '2', 'more', 'big', 'high', 'acc'], ['high', 'med', '4', '2', 'big', 'low', 'unacc'], ['low', 'low', '3', '2', 'big', 'high', 'unacc'], ['low', 'vhigh', '4', '4', 'small', 'high', 'acc'], ['med', 'med', '4', 'more', 'big', 'low', 'unacc'], ['low', 'vhigh', '5more', 'more', 'med', 'low', 'unacc'], ['vhigh', 'low', '3', '2', 'small', 'high', 'unacc'], ['low', 'high', '4', '4', 'big', 'low', 'unacc'], ['vhigh', 'vhigh', '3', '4', 'med', 'low', 'unacc'], ['vhigh', 'med', '5more', '4', 'small', 'low', 'unacc'], ['vhigh', 'med', '3', 'more', 'small', 'low', 'unacc'], ['med', 'low', '5more', '4', 'big', 'low', 'unacc'], ['med', 'high', '3', '2', 'small', 'med', 'unacc'], ['low', 'high', '4', 'more', 'small', 'med', 'acc'], ['low', 'med', '3', '4', 'med', 'med', 'acc'], ['high', 'vhigh', '2', 'more', 'med', 'high', 'unacc'], ['med', 'high', '3', '4', 'small', 'low', 'unacc'], ['vhigh', 'high', '3', '2', 'small', 'low', 'unacc'], ['high', 'med', '3', '2', 'big', 'med', 'unacc'], ['med', 'high', '5more', '4', 'big', 'low', 'unacc'], ['low', 'vhigh', '3', 'more', 'small', 'low', 'unacc'], ['vhigh', 'high', '5more', 'more', 'med', 'low', 'unacc'], ['low', 'low', '3', 'more', 'small', 'low', 'unacc'], ['vhigh', 'med', '2', 'more', 'med', 'low', 'unacc'], ['high', 'vhigh', '2', '2', 'small', 'high', 'unacc'], ['low', 'med', '4', '4', 'big', 'low', 'unacc'], ['high', 'med', '3', '2', 'small', 'med', 'unacc'], ['low', 'med', '4', 'more', 'med', 'med', 'good'], ['low', 'vhigh', '4', '4', 'med', 'high', 'acc'], ['med', 'low', '4', '4', 'small', 'low', 'unacc'], ['med', 'low', '4', '2', 'med', 'low', 'unacc'], ['med', 'low', '5more', '2', 'big', 'med', 'unacc'], ['vhigh', 'vhigh', '2', '4', 'small', 'med', 'unacc'], ['high', 'low', '5more', '4', 'med', 'low', 'unacc'], ['low', 'low', '2', '2', 'big', 'high', 'unacc'], ['high', 'vhigh', '5more', '4', 'med', 'high', 'unacc'], ['high', 'med', '3', 'more', 'big', 'low', 'unacc'], ['low', 'vhigh', '4', 'more', 'med', 'high', 'acc'], ['med', 'med', '5more', '4', 'small', 'high', 'acc'], ['vhigh', 'med', '5more', '4', 'med', 'high', 'acc'], ['med', 'vhigh', '3', 'more', 'small', 'med', 'unacc'], ['high', 'high', '3', '2', 'med', 'med', 'unacc'], ['low', 'high', '3', '4', 'small', 'low', 'unacc'], ['med', 'low', '3', '2', 'med', 'med', 'unacc'], ['vhigh', 'vhigh', '5more', '4', 'small', 'med', 'unacc'], ['med', 'low', '5more', 'more', 'big', 'low', 'unacc'], ['low', 'med', '3', '2', 'med', 'low', 'unacc'], ['med', 'low', '3', '2', 'small', 'low', 'unacc'], ['low', 'med', '5more', 'more', 'big', 'med', 'good'], ['med', 'med', '5more', 'more', 'big', 'low', 'unacc'], ['low', 'vhigh', '2', '4', 'med', 'med', 'unacc'], ['low', 'vhigh', '5more', '2', 'big', 'low', 'unacc'], ['low', 'med', '4', '4', 'big', 'high', 'vgood'], ['high', 'med', '4', 'more', 'med', 'low', 'unacc'], ['med', 'vhigh', '3', 'more', 'small', 'high', 'acc'], ['vhigh', 'med', '4', '4', 'small', 'high', 'acc'], ['vhigh', 'med', '5more', '4', 'med', 'med', 'acc'], ['vhigh', 'vhigh', '3', '4', 'small', 'high', 'unacc'], ['med', 'high', '4', '2', 'med', 'med', 'unacc'], ['vhigh', 'med', '4', '2', 'med', 'low', 'unacc'], ['med', 'low', '3', 'more', 'big', 'med', 'good'], ['low', 'med', '4', 'more', 'big', 'high', 'vgood'], ['low', 'vhigh', '2', 'more', 'small', 'low', 'unacc'], ['vhigh', 'low', '3', 'more', 'small', 'low', 'unacc'], ['high', 'low', '4', '2', 'small', 'high', 'unacc'], ['med', 'med', '5more', '4', 'med', 'low', 'unacc'], ['vhigh', 'vhigh', '3', '4', 'big', 'high', 'unacc'], ['low', 'low', '2', 'more', 'med', 'low', 'unacc'], ['high', 'high', '5more', 'more', 'big', 'high', 'acc'], ['high', 'vhigh', '2', 'more', 'big', 'high', 'unacc'], ['low', 'low', '5more', 'more', 'med', 'med', 'good'], ['high', 'high', '3', '4', 'small', 'high', 'acc'], ['low', 'high', '4', '4', 'small', 'med', 'acc'], ['low', 'vhigh', '3', '4', 'small', 'low', 'unacc'], ['med', 'high', '5more', '4', 'med', 'med', 'acc'], ['low', 'med', '4', '4', 'small', 'low', 'unacc'], ['vhigh', 'low', '3', '4', 'med', 'low', 'unacc'], ['vhigh', 'med', '2', '2', 'med', 'high', 'unacc'], ['low', 'vhigh', '3', '4', 'med', 'med', 'unacc'], ['med', 'vhigh', '4', 'more', 'med', 'low', 'unacc'], ['vhigh', 'vhigh', '2', '4', 'med', 'high', 'unacc'], ['high', 'high', '3', '4', 'big', 'low', 'unacc'], ['low', 'high', '3', '4', 'big', 'med', 'acc'], ['vhigh', 'high', '2', '4', 'small', 'high', 'unacc'], ['low', 'vhigh', '2', 'more', 'small', 'med', 'unacc'], ['med', 'vhigh', '5more', '4', 'med', 'low', 'unacc'], ['low', 'low', '3', '2', 'big', 'med', 'unacc'], ['low', 'low', '4', '4', 'small', 'high', 'good'], ['high', 'med', '4', '4', 'small', 'med', 'unacc'], ['vhigh', 'high', '3', '2', 'big', 'high', 'unacc'], ['vhigh', 'med', '3', 'more', 'small', 'high', 'acc'], ['low', 'low', '3', 'more', 'big', 'low', 'unacc'], ['vhigh', 'low', '5more', 'more', 'big', 'high', 'acc'], ['med', 'vhigh', '5more', '4', 'big', 'high', 'acc'], ['vhigh', 'high', '5more', '2', 'big', 'med', 'unacc'], ['low', 'high', '4', '2', 'big', 'low', 'unacc'], ['low', 'high', '5more', 'more', 'big', 'med', 'acc'], ['low', 'high', '5more', '2', 'small', 'high', 'unacc'], ['vhigh', 'low', '2', 'more', 'small', 'high', 'unacc'], ['vhigh', 'vhigh', '2', '2', 'big', 'high', 'unacc'], ['low', 'med', '2', '2', 'med', 'high', 'unacc'], ['high', 'vhigh', '2', '2', 'small', 'low', 'unacc'], ['low', 'vhigh', '4', 'more', 'small', 'med', 'unacc'], ['high', 'low', '2', 'more', 'small', 'low', 'unacc'], ['med', 'med', '5more', '2', 'small', 'med', 'unacc'], ['vhigh', 'high', '3', '2', 'small', 'high', 'unacc'], ['vhigh', 'vhigh', '3', '2', 'big', 'med', 'unacc'], ['high', 'vhigh', '2', '4', 'med', 'med', 'unacc'], ['vhigh', 'low', '4', 'more', 'med', 'high', 'acc'], ['low', 'low', '2', '4', 'med', 'high', 'good'], ['high', 'med', '3', 'more', 'med', 'high', 'acc'], ['high', 'vhigh', '2', '2', 'med', 'low', 'unacc'], ['high', 'vhigh', '2', 'more', 'big', 'med', 'unacc'], ['vhigh', 'med', '2', 'more', 'big', 'med', 'acc'], ['high', 'high', '2', '4', 'med', 'high', 'acc'], ['low', 'high', '4', 'more', 'med', 'med', 'acc'], ['vhigh', 'vhigh', '4', '4', 'med', 'low', 'unacc'], ['med', 'low', '4', '4', 'small', 'med', 'acc'], ['med', 'high', '2', '4', 'big', 'med', 'acc'], ['high', 'low', '4', 'more', 'small', 'high', 'acc'], ['high', 'high', '5more', 'more', 'big', 'med', 'acc'], ['high', 'high', '5more', '2', 'big', 'med', 'unacc'], ['vhigh', 'low', '2', 'more', 'med', 'med', 'unacc'], ['vhigh', 'vhigh', '4', '2', 'small', 'high', 'unacc'], ['low', 'low', '5more', '4', 'small', 'low', 'unacc'], ['med', 'low', '4', '4', 'med', 'med', 'good'], ['high', 'low', '2', '2', 'med', 'low', 'unacc'], ['med', 'med', '3', '4', 'big', 'high', 'vgood'], ['med', 'med', '4', '2', 'big', 'med', 'unacc'], ['vhigh', 'vhigh', '5more', '4', 'med', 'high', 'unacc'], ['low', 'vhigh', '3', '2', 'med', 'high', 'unacc'], ['low', 'vhigh', '3', '4', 'big', 'low', 'unacc'], ['med', 'med', '2', '2', 'big', 'high', 'unacc'], ['high', 'low', '5more', 'more', 'med', 'high', 'acc'], ['vhigh', 'med', '5more', '4', 'small', 'med', 'unacc'], ['high', 'high', '3', 'more', 'small', 'high', 'acc'], ['med', 'low', '4', '4', 'big', 'med', 'good'], ['low', 'vhigh', '5more', '4', 'small', 'low', 'unacc'], ['vhigh', 'high', '2', '2', 'big', 'med', 'unacc'], ['med', 'vhigh', '4', '4', 'big', 'low', 'unacc'], ['vhigh', 'vhigh', '4', 'more', 'small', 'med', 'unacc'], ['vhigh', 'med', '5more', 'more', 'med', 'low', 'unacc'], ['vhigh', 'high', '2', '2', 'med', 'med', 'unacc'], ['high', 'low', '2', '4', 'small', 'high', 'acc'], ['med', 'med', '4', '4', 'med', 'low', 'unacc'], ['low', 'high', '5more', '2', 'small', 'med', 'unacc'], ['low', 'vhigh', '3', '4', 'big', 'med', 'acc'], ['high', 'high', '4', '4', 'big', 'high', 'acc'], ['med', 'med', '4', 'more', 'med', 'med', 'acc'], ['vhigh', 'low', '2', '4', 'med', 'high', 'acc'], ['vhigh', 'med', '3', '2', 'small', 'med', 'unacc'], ['low', 'low', '4', '2', 'med', 'low', 'unacc'], ['high', 'low', '4', '4', 'small', 'low', 'unacc'], ['med', 'low', '5more', '4', 'small', 'high', 'good'], ['vhigh', 'high', '4', '2', 'med', 'med', 'unacc'], ['vhigh', 'vhigh', '2', '2', 'small', 'low', 'unacc'], ['med', 'high', '5more', '2', 'big', 'high', 'unacc'], ['high', 'vhigh', '3', '2', 'big', 'high', 'unacc'], ['low', 'high', '3', '4', 'big', 'low', 'unacc'], ['high', 'low', '4', '2', 'big', 'med', 'unacc'], ['vhigh', 'med', '5more', 'more', 'small', 'high', 'acc'], ['vhigh', 'med', '2', 'more', 'big', 'low', 'unacc'], ['vhigh', 'low', '4', 'more', 'big', 'med', 'acc'], ['low', 'high', '5more', '4', 'med', 'low', 'unacc'], ['low', 'low', '3', '2', 'big', 'low', 'unacc'], ['low', 'high', '3', '2', 'big', 'high', 'unacc'], ['high', 'high', '4', '2', 'small', 'high', 'unacc'], ['low', 'med', '2', '4', 'small', 'med', 'acc'], ['high', 'med', '4', '4', 'small', 'high', 'acc'], ['low', 'low', '5more', 'more', 'small', 'med', 'acc'], ['vhigh', 'low', '5more', '2', 'med', 'low', 'unacc'], ['med', 'high', '4', '4', 'small', 'high', 'acc'], ['vhigh', 'high', '5more', 'more', 'small', 'high', 'unacc'], ['med', 'med', '4', 'more', 'big', 'med', 'acc'], ['med', 'low', '3', 'more', 'small', 'high', 'good'], ['low', 'low', '3', '2', 'med', 'med', 'unacc'], ['vhigh', 'med', '4', '2', 'small', 'low', 'unacc'], ['low', 'med', '5more', '2', 'big', 'high', 'unacc'], ['high', 'high', '5more', '4', 'med', 'low', 'unacc'], ['low', 'med', '3', 'more', 'med', 'med', 'good'], ['high', 'low', '3', '2', 'med', 'low', 'unacc'], ['med', 'vhigh', '5more', '2', 'med', 'med', 'unacc'], ['low', 'vhigh', '2', '2', 'big', 'low', 'unacc'], ['high', 'vhigh', '5more', 'more', 'med', 'high', 'unacc'], ['vhigh', 'low', '4', '4', 'med', 'med', 'acc'], ['high', 'med', '4', '2', 'small', 'high', 'unacc'], ['med', 'high', '3', '4', 'big', 'high', 'acc'], ['high', 'vhigh', '3', '2', 'med', 'low', 'unacc'], ['low', 'med', '4', '2', 'small', 'high', 'unacc'], ['vhigh', 'low', '5more', '4', 'big', 'low', 'unacc'], ['vhigh', 'low', '4', '2', 'med', 'low', 'unacc'], ['vhigh', 'vhigh', '2', '4', 'big', 'med', 'unacc'], ['vhigh', 'med', '4', '4', 'big', 'med', 'acc'], ['med', 'vhigh', '4', 'more', 'big', 'high', 'acc'], ['vhigh', 'low', '5more', 'more', 'big', 'low', 'unacc'], ['med', 'vhigh', '3', 'more', 'med', 'high', 'acc'], ['med', 'low', '5more', '4', 'med', 'high', 'vgood'], ['vhigh', 'low', '3', '4', 'small', 'high', 'acc'], ['vhigh', 'med', '3', '4', 'big', 'med', 'acc'], ['med', 'low', '2', '4', 'big', 'high', 'vgood'], ['high', 'high', '3', '2', 'big', 'low', 'unacc'], ['low', 'high', '5more', '2', 'small', 'low', 'unacc'], ['low', 'high', '2', 'more', 'med', 'low', 'unacc'], ['high', 'low', '4', '2', 'med', 'med', 'unacc'], ['low', 'vhigh', '2', '4', 'big', 'med', 'acc'], ['high', 'vhigh', '3', 'more', 'med', 'med', 'unacc'], ['med', 'med', '3', 'more', 'med', 'low', 'unacc'], ['med', 'vhigh', '5more', '4', 'small', 'low', 'unacc'], ['med', 'vhigh', '3', 'more', 'big', 'med', 'acc'], ['vhigh', 'vhigh', '4', '4', 'big', 'med', 'unacc'], ['low', 'high', '5more', '2', 'big', 'med', 'unacc'], ['med', 'low', '2', 'more', 'med', 'med', 'acc'], ['low', 'med', '4', '2', 'small', 'low', 'unacc'], ['med', 'low', '5more', '4', 'small', 'med', 'acc'], ['med', 'vhigh', '3', '2', 'big', 'high', 'unacc'], ['vhigh', 'low', '2', '2', 'big', 'med', 'unacc'], ['vhigh', 'high', '4', 'more', 'small', 'high', 'unacc'], ['vhigh', 'low', '3', 'more', 'big', 'high', 'acc'], ['med', 'med', '4', '4', 'big', 'low', 'unacc'], ['high', 'med', '2', '4', 'small', 'high', 'acc'], ['med', 'high', '3', '2', 'med', 'med', 'unacc'], ['high', 'high', '2', 'more', 'big', 'low', 'unacc'], ['high', 'vhigh', '2', '4', 'small', 'low', 'unacc'], ['high', 'med', '3', '2', 'small', 'low', 'unacc'], ['low', 'med', '2', 'more', 'small', 'low', 'unacc'], ['high', 'low', '4', 'more', 'med', 'low', 'unacc'], ['med', 'low', '5more', '4', 'big', 'high', 'vgood'], ['med', 'high', '2', '2', 'med', 'med', 'unacc'], ['med', 'vhigh', '3', 'more', 'med', 'low', 'unacc']]\n"
     ]
    }
   ],
   "source": [
    "from math import log\n",
    "import operator\n",
    "import pandas as pd\n",
    "import numpy as np\n",
    "#data = pd.read_csv(\"train.csv\")\n",
    "import csv\n",
    "with open('train.csv', newline='') as f:\n",
    "    reader = csv.reader(f)\n",
    "    data = list(reader)\n",
    "print(data)"
   ]
  },
  {
   "cell_type": "code",
   "execution_count": 65,
   "metadata": {
    "scrolled": true
   },
   "outputs": [
    {
     "data": {
      "text/plain": [
       "\"def add_feature_name():\\n    feature_name = ['buying','maint','doors','persons','lug_boot','safety','label']\\n    return data, feature_name\\n\\ndata, feature_name = add_feature_name()\""
      ]
     },
     "execution_count": 65,
     "metadata": {},
     "output_type": "execute_result"
    }
   ],
   "source": []
  },
  {
   "cell_type": "code",
   "execution_count": null,
   "metadata": {},
   "outputs": [],
   "source": []
  },
  {
   "cell_type": "code",
   "execution_count": 66,
   "metadata": {},
   "outputs": [],
   "source": [
    "def split_data(data, feature, value):\n",
    "    ret_data = []\n",
    "    for feat_vec in data:\n",
    "        if feat_vec[feature] == value:\n",
    "            reduce_feat_vec = feat_vec[:feature]\n",
    "            reduce_feat_vec.extend(feat_vec[feature+1:])\n",
    "            ret_data.append(reduce_feat_vec)\n",
    "    return ret_data\n",
    "\n",
    "#def chooseBestFeatureToSplit(data):"
   ]
  },
  {
   "cell_type": "code",
   "execution_count": 67,
   "metadata": {},
   "outputs": [
    {
     "data": {
      "text/plain": [
       "[['vhigh', '4', '4', 'big', 'med', 'acc'],\n",
       " ['high', '5more', '4', 'med', 'high', 'vgood'],\n",
       " ['vhigh', '2', '2', 'big', 'med', 'unacc'],\n",
       " ['high', '2', 'more', 'small', 'high', 'unacc'],\n",
       " ['med', '2', '2', 'med', 'med', 'unacc'],\n",
       " ['high', '5more', '4', 'big', 'low', 'unacc'],\n",
       " ['vhigh', '4', '2', 'small', 'high', 'unacc'],\n",
       " ['med', '4', '2', 'med', 'low', 'unacc'],\n",
       " ['vhigh', '3', '4', 'med', 'low', 'unacc'],\n",
       " ['med', '4', 'more', 'small', 'high', 'good'],\n",
       " ['med', '5more', 'more', 'big', 'low', 'unacc'],\n",
       " ['med', '3', '4', 'med', 'high', 'good'],\n",
       " ['med', '2', '4', 'big', 'high', 'vgood'],\n",
       " ['high', '3', '2', 'med', 'high', 'unacc'],\n",
       " ['med', '3', '4', 'big', 'high', 'vgood'],\n",
       " ['med', '5more', '4', 'big', 'high', 'vgood'],\n",
       " ['low', '4', 'more', 'big', 'low', 'unacc'],\n",
       " ['low', '5more', '2', 'big', 'med', 'unacc'],\n",
       " ['vhigh', '5more', 'more', 'small', 'low', 'unacc'],\n",
       " ['high', '5more', '2', 'big', 'high', 'unacc'],\n",
       " ['high', '4', 'more', 'small', 'high', 'acc'],\n",
       " ['low', '3', '2', 'small', 'high', 'unacc'],\n",
       " ['high', '3', '4', 'med', 'high', 'acc'],\n",
       " ['low', '3', 'more', 'big', 'med', 'good'],\n",
       " ['high', '3', 'more', 'med', 'med', 'acc'],\n",
       " ['low', '4', '2', 'big', 'high', 'unacc'],\n",
       " ['high', '3', 'more', 'small', 'med', 'acc'],\n",
       " ['med', '2', '4', 'med', 'low', 'unacc'],\n",
       " ['high', '2', 'more', 'big', 'med', 'acc'],\n",
       " ['vhigh', '2', 'more', 'small', 'high', 'unacc'],\n",
       " ['low', '3', '2', 'small', 'med', 'unacc'],\n",
       " ['low', '2', 'more', 'big', 'med', 'good'],\n",
       " ['vhigh', '2', '4', 'big', 'high', 'acc'],\n",
       " ['low', '2', '4', 'med', 'med', 'acc'],\n",
       " ['high', '3', '4', 'big', 'high', 'vgood'],\n",
       " ['high', '4', '4', 'small', 'low', 'unacc'],\n",
       " ['med', '2', 'more', 'small', 'high', 'unacc'],\n",
       " ['med', '5more', '2', 'big', 'med', 'unacc'],\n",
       " ['vhigh', '4', '4', 'med', 'med', 'acc'],\n",
       " ['high', '5more', 'more', 'big', 'high', 'vgood'],\n",
       " ['vhigh', '2', 'more', 'big', 'high', 'acc'],\n",
       " ['low', '5more', '2', 'med', 'low', 'unacc'],\n",
       " ['vhigh', '2', 'more', 'big', 'med', 'acc'],\n",
       " ['low', '2', '2', 'small', 'low', 'unacc'],\n",
       " ['vhigh', '5more', '2', 'big', 'med', 'unacc'],\n",
       " ['high', '4', '2', 'small', 'high', 'unacc'],\n",
       " ['high', '3', '4', 'med', 'low', 'unacc'],\n",
       " ['vhigh', '5more', '2', 'med', 'low', 'unacc'],\n",
       " ['high', '2', '4', 'small', 'low', 'unacc'],\n",
       " ['low', '5more', 'more', 'big', 'med', 'good'],\n",
       " ['med', '4', '4', 'med', 'med', 'good'],\n",
       " ['med', '2', '4', 'big', 'low', 'unacc'],\n",
       " ['med', '2', 'more', 'med', 'med', 'acc'],\n",
       " ['vhigh', '4', 'more', 'big', 'med', 'acc'],\n",
       " ['low', '5more', '2', 'small', 'high', 'unacc'],\n",
       " ['high', '2', 'more', 'small', 'med', 'unacc'],\n",
       " ['low', '4', '2', 'med', 'med', 'unacc'],\n",
       " ['vhigh', '3', '4', 'med', 'high', 'acc'],\n",
       " ['med', '5more', '4', 'med', 'high', 'vgood'],\n",
       " ['low', '4', 'more', 'big', 'med', 'good'],\n",
       " ['low', '2', '2', 'small', 'high', 'unacc'],\n",
       " ['vhigh', '5more', '4', 'big', 'low', 'unacc'],\n",
       " ['vhigh', '5more', '4', 'small', 'med', 'unacc'],\n",
       " ['high', '4', '4', 'big', 'high', 'vgood'],\n",
       " ['vhigh', '3', '2', 'big', 'med', 'unacc'],\n",
       " ['med', '3', '4', 'small', 'high', 'good'],\n",
       " ['vhigh', '2', '2', 'med', 'med', 'unacc'],\n",
       " ['high', '3', 'more', 'big', 'low', 'unacc'],\n",
       " ['vhigh', '5more', '4', 'big', 'med', 'acc'],\n",
       " ['vhigh', '4', '4', 'med', 'low', 'unacc'],\n",
       " ['high', '3', '2', 'small', 'high', 'unacc'],\n",
       " ['high', '5more', '4', 'med', 'med', 'acc'],\n",
       " ['vhigh', '5more', 'more', 'small', 'med', 'unacc'],\n",
       " ['vhigh', '2', '4', 'small', 'med', 'unacc'],\n",
       " ['high', '2', 'more', 'big', 'low', 'unacc'],\n",
       " ['med', '5more', '2', 'big', 'low', 'unacc'],\n",
       " ['low', '5more', '2', 'med', 'med', 'unacc'],\n",
       " ['low', '5more', 'more', 'small', 'high', 'good'],\n",
       " ['med', '3', 'more', 'big', 'low', 'unacc'],\n",
       " ['med', '2', '2', 'small', 'low', 'unacc'],\n",
       " ['med', '2', '4', 'small', 'high', 'good'],\n",
       " ['low', '2', 'more', 'med', 'med', 'acc'],\n",
       " ['med', '3', '2', 'small', 'med', 'unacc'],\n",
       " ['med', '4', '4', 'small', 'high', 'good'],\n",
       " ['vhigh', '4', '2', 'big', 'low', 'unacc'],\n",
       " ['high', '3', '2', 'big', 'low', 'unacc'],\n",
       " ['vhigh', '4', '4', 'big', 'low', 'unacc'],\n",
       " ['high', '2', '2', 'med', 'low', 'unacc'],\n",
       " ['low', '5more', '2', 'med', 'high', 'unacc'],\n",
       " ['high', '5more', 'more', 'small', 'high', 'acc'],\n",
       " ['vhigh', '3', '2', 'med', 'med', 'unacc'],\n",
       " ['high', '2', '2', 'big', 'high', 'unacc'],\n",
       " ['med', '4', 'more', 'big', 'med', 'good'],\n",
       " ['high', '4', 'more', 'small', 'low', 'unacc'],\n",
       " ['med', '4', '4', 'med', 'high', 'vgood'],\n",
       " ['high', '2', '2', 'big', 'low', 'unacc'],\n",
       " ['med', '5more', 'more', 'small', 'low', 'unacc'],\n",
       " ['vhigh', '4', 'more', 'med', 'med', 'acc'],\n",
       " ['med', '5more', 'more', 'small', 'med', 'acc'],\n",
       " ['low', '5more', '2', 'small', 'low', 'unacc'],\n",
       " ['high', '2', '2', 'small', 'low', 'unacc'],\n",
       " ['low', '5more', '4', 'small', 'med', 'acc'],\n",
       " ['med', '3', '2', 'big', 'med', 'unacc'],\n",
       " ['high', '2', '4', 'med', 'med', 'acc'],\n",
       " ['low', '4', 'more', 'small', 'med', 'acc'],\n",
       " ['high', '3', '2', 'small', 'med', 'unacc'],\n",
       " ['low', '4', '4', 'med', 'high', 'vgood'],\n",
       " ['low', '4', 'more', 'small', 'low', 'unacc'],\n",
       " ['med', '3', 'more', 'big', 'med', 'good'],\n",
       " ['med', '4', 'more', 'small', 'med', 'acc'],\n",
       " ['low', '5more', 'more', 'big', 'high', 'vgood'],\n",
       " ['med', '3', 'more', 'big', 'high', 'vgood'],\n",
       " ['low', '2', '4', 'small', 'med', 'acc'],\n",
       " ['med', '5more', '4', 'big', 'low', 'unacc'],\n",
       " ['med', '5more', '4', 'small', 'high', 'good'],\n",
       " ['med', '2', '4', 'med', 'med', 'acc'],\n",
       " ['vhigh', '5more', 'more', 'med', 'high', 'acc'],\n",
       " ['high', '4', 'more', 'med', 'low', 'unacc'],\n",
       " ['low', '2', '4', 'med', 'low', 'unacc'],\n",
       " ['med', '5more', '4', 'big', 'med', 'good'],\n",
       " ['low', '4', '4', 'med', 'med', 'good'],\n",
       " ['low', '2', '4', 'big', 'med', 'good'],\n",
       " ['med', '5more', 'more', 'med', 'high', 'vgood'],\n",
       " ['high', '3', '4', 'med', 'med', 'acc'],\n",
       " ['high', '5more', '2', 'med', 'med', 'unacc'],\n",
       " ['low', '3', 'more', 'med', 'med', 'good'],\n",
       " ['high', '4', '2', 'med', 'high', 'unacc'],\n",
       " ['high', '4', 'more', 'big', 'high', 'vgood'],\n",
       " ['vhigh', '4', 'more', 'small', 'high', 'acc'],\n",
       " ['med', '5more', '2', 'med', 'low', 'unacc'],\n",
       " ['med', '3', 'more', 'small', 'high', 'good'],\n",
       " ['med', '4', '2', 'med', 'med', 'unacc'],\n",
       " ['low', '2', 'more', 'small', 'high', 'unacc'],\n",
       " ['vhigh', '4', '2', 'big', 'med', 'unacc'],\n",
       " ['high', '4', '2', 'med', 'low', 'unacc'],\n",
       " ['low', '2', 'more', 'small', 'med', 'unacc'],\n",
       " ['high', '2', '2', 'med', 'med', 'unacc'],\n",
       " ['low', '4', '4', 'big', 'low', 'unacc'],\n",
       " ['vhigh', '3', 'more', 'small', 'high', 'acc'],\n",
       " ['vhigh', '2', '4', 'med', 'high', 'acc'],\n",
       " ['low', '2', '4', 'small', 'high', 'good'],\n",
       " ['high', '5more', '2', 'big', 'low', 'unacc'],\n",
       " ['med', '2', '2', 'big', 'high', 'unacc'],\n",
       " ['high', '4', '2', 'small', 'med', 'unacc'],\n",
       " ['med', '5more', '2', 'small', 'low', 'unacc'],\n",
       " ['high', '5more', '4', 'big', 'high', 'vgood'],\n",
       " ['vhigh', '5more', 'more', 'big', 'low', 'unacc'],\n",
       " ['high', '3', 'more', 'med', 'low', 'unacc'],\n",
       " ['med', '5more', '2', 'small', 'high', 'unacc'],\n",
       " ['med', '4', '2', 'small', 'med', 'unacc'],\n",
       " ['vhigh', '3', 'more', 'med', 'high', 'acc'],\n",
       " ['med', '3', 'more', 'small', 'med', 'acc'],\n",
       " ['high', '5more', 'more', 'med', 'med', 'acc'],\n",
       " ['vhigh', '2', 'more', 'big', 'low', 'unacc'],\n",
       " ['med', '4', '2', 'big', 'high', 'unacc'],\n",
       " ['med', '4', '2', 'big', 'low', 'unacc'],\n",
       " ['vhigh', '3', '2', 'big', 'low', 'unacc'],\n",
       " ['vhigh', '3', '4', 'big', 'high', 'acc'],\n",
       " ['med', '3', '4', 'small', 'med', 'acc'],\n",
       " ['vhigh', '5more', 'more', 'big', 'high', 'acc'],\n",
       " ['low', '2', '4', 'small', 'low', 'unacc'],\n",
       " ['vhigh', '5more', '4', 'med', 'med', 'acc'],\n",
       " ['med', '3', '4', 'med', 'low', 'unacc'],\n",
       " ['vhigh', '5more', '2', 'med', 'med', 'unacc'],\n",
       " ['med', '2', '2', 'small', 'high', 'unacc'],\n",
       " ['low', '2', 'more', 'big', 'high', 'vgood'],\n",
       " ['low', '3', '4', 'med', 'med', 'acc'],\n",
       " ['low', '5more', 'more', 'med', 'low', 'unacc'],\n",
       " ['high', '4', '2', 'big', 'high', 'unacc'],\n",
       " ['vhigh', '5more', '2', 'big', 'high', 'unacc'],\n",
       " ['med', '2', '4', 'big', 'med', 'good'],\n",
       " ['low', '5more', '2', 'big', 'low', 'unacc'],\n",
       " ['low', '2', '4', 'big', 'low', 'unacc'],\n",
       " ['med', '2', 'more', 'big', 'med', 'good'],\n",
       " ['med', '3', 'more', 'med', 'high', 'vgood'],\n",
       " ['med', '3', 'more', 'small', 'low', 'unacc'],\n",
       " ['vhigh', '5more', '2', 'med', 'high', 'unacc'],\n",
       " ['high', '4', '4', 'med', 'med', 'acc'],\n",
       " ['low', '2', 'more', 'small', 'low', 'unacc'],\n",
       " ['low', '3', '2', 'big', 'high', 'unacc'],\n",
       " ['vhigh', '4', '4', 'small', 'high', 'acc'],\n",
       " ['vhigh', '5more', 'more', 'med', 'low', 'unacc'],\n",
       " ['high', '4', '4', 'big', 'low', 'unacc'],\n",
       " ['high', '4', 'more', 'small', 'med', 'acc'],\n",
       " ['med', '3', '4', 'med', 'med', 'acc'],\n",
       " ['vhigh', '3', 'more', 'small', 'low', 'unacc'],\n",
       " ['low', '3', 'more', 'small', 'low', 'unacc'],\n",
       " ['med', '4', '4', 'big', 'low', 'unacc'],\n",
       " ['med', '4', 'more', 'med', 'med', 'good'],\n",
       " ['vhigh', '4', '4', 'med', 'high', 'acc'],\n",
       " ['low', '2', '2', 'big', 'high', 'unacc'],\n",
       " ['vhigh', '4', 'more', 'med', 'high', 'acc'],\n",
       " ['high', '3', '4', 'small', 'low', 'unacc'],\n",
       " ['med', '3', '2', 'med', 'low', 'unacc'],\n",
       " ['med', '5more', 'more', 'big', 'med', 'good'],\n",
       " ['vhigh', '2', '4', 'med', 'med', 'unacc'],\n",
       " ['vhigh', '5more', '2', 'big', 'low', 'unacc'],\n",
       " ['med', '4', '4', 'big', 'high', 'vgood'],\n",
       " ['med', '4', 'more', 'big', 'high', 'vgood'],\n",
       " ['vhigh', '2', 'more', 'small', 'low', 'unacc'],\n",
       " ['low', '2', 'more', 'med', 'low', 'unacc'],\n",
       " ['low', '5more', 'more', 'med', 'med', 'good'],\n",
       " ['high', '4', '4', 'small', 'med', 'acc'],\n",
       " ['vhigh', '3', '4', 'small', 'low', 'unacc'],\n",
       " ['med', '4', '4', 'small', 'low', 'unacc'],\n",
       " ['vhigh', '3', '4', 'med', 'med', 'unacc'],\n",
       " ['high', '3', '4', 'big', 'med', 'acc'],\n",
       " ['vhigh', '2', 'more', 'small', 'med', 'unacc'],\n",
       " ['low', '3', '2', 'big', 'med', 'unacc'],\n",
       " ['low', '4', '4', 'small', 'high', 'good'],\n",
       " ['low', '3', 'more', 'big', 'low', 'unacc'],\n",
       " ['high', '4', '2', 'big', 'low', 'unacc'],\n",
       " ['high', '5more', 'more', 'big', 'med', 'acc'],\n",
       " ['high', '5more', '2', 'small', 'high', 'unacc'],\n",
       " ['med', '2', '2', 'med', 'high', 'unacc'],\n",
       " ['vhigh', '4', 'more', 'small', 'med', 'unacc'],\n",
       " ['low', '2', '4', 'med', 'high', 'good'],\n",
       " ['high', '4', 'more', 'med', 'med', 'acc'],\n",
       " ['low', '5more', '4', 'small', 'low', 'unacc'],\n",
       " ['vhigh', '3', '2', 'med', 'high', 'unacc'],\n",
       " ['vhigh', '3', '4', 'big', 'low', 'unacc'],\n",
       " ['vhigh', '5more', '4', 'small', 'low', 'unacc'],\n",
       " ['high', '5more', '2', 'small', 'med', 'unacc'],\n",
       " ['vhigh', '3', '4', 'big', 'med', 'acc'],\n",
       " ['low', '4', '2', 'med', 'low', 'unacc'],\n",
       " ['high', '3', '4', 'big', 'low', 'unacc'],\n",
       " ['high', '5more', '4', 'med', 'low', 'unacc'],\n",
       " ['low', '3', '2', 'big', 'low', 'unacc'],\n",
       " ['high', '3', '2', 'big', 'high', 'unacc'],\n",
       " ['med', '2', '4', 'small', 'med', 'acc'],\n",
       " ['low', '5more', 'more', 'small', 'med', 'acc'],\n",
       " ['low', '3', '2', 'med', 'med', 'unacc'],\n",
       " ['med', '5more', '2', 'big', 'high', 'unacc'],\n",
       " ['med', '3', 'more', 'med', 'med', 'good'],\n",
       " ['vhigh', '2', '2', 'big', 'low', 'unacc'],\n",
       " ['med', '4', '2', 'small', 'high', 'unacc'],\n",
       " ['high', '5more', '2', 'small', 'low', 'unacc'],\n",
       " ['high', '2', 'more', 'med', 'low', 'unacc'],\n",
       " ['vhigh', '2', '4', 'big', 'med', 'acc'],\n",
       " ['high', '5more', '2', 'big', 'med', 'unacc'],\n",
       " ['med', '4', '2', 'small', 'low', 'unacc'],\n",
       " ['med', '2', 'more', 'small', 'low', 'unacc']]"
      ]
     },
     "execution_count": 67,
     "metadata": {},
     "output_type": "execute_result"
    }
   ],
   "source": [
    "split_data(data,0,'low')"
   ]
  },
  {
   "cell_type": "code",
   "execution_count": 87,
   "metadata": {},
   "outputs": [],
   "source": [
    "def entropy(data):\n",
    "    S = len(data)\n",
    "    label_counts = {}\n",
    "    for feat_vec in data:\n",
    "        cur_label = feat_vec[-1]\n",
    "        if cur_label not in label_counts.keys():\n",
    "            label_counts[cur_label] = 0\n",
    "        label_counts[cur_label] += 1\n",
    "    E = 0.000\n",
    "    for key in label_counts:\n",
    "        Pr = float(label_counts[key])/S\n",
    "        E -= Pr * log(Pr)\n",
    "    return E"
   ]
  },
  {
   "cell_type": "code",
   "execution_count": 88,
   "metadata": {},
   "outputs": [
    {
     "data": {
      "text/plain": [
       "0.8490262011977621"
      ]
     },
     "execution_count": 88,
     "metadata": {},
     "output_type": "execute_result"
    }
   ],
   "source": [
    "entropy(data)"
   ]
  },
  {
   "cell_type": "code",
   "execution_count": 93,
   "metadata": {},
   "outputs": [],
   "source": [
    "def choose_best_feature(data):\n",
    "    n = len(data[0]) - 1\n",
    "    Es = entropy(data)\n",
    "    best_gain = 0.000\n",
    "    best_feature = -1\n",
    "    for i in range(n):\n",
    "        List = [temp[i] for temp in data]\n",
    "        attribute = set(List)\n",
    "        E1 = 0.000\n",
    "        for value in attribute:\n",
    "            sub = split_data(data, i, value)\n",
    "            Pr1 = len(sub) / float(len(data))\n",
    "            E1 += Pr1 * entropy(sub)\n",
    "        gain = Es - E1\n",
    "    if (gain > best_gain):\n",
    "        best_gain = gain\n",
    "        best_feature = i\n",
    "    return best_feature"
   ]
  },
  {
   "cell_type": "code",
   "execution_count": 94,
   "metadata": {},
   "outputs": [
    {
     "data": {
      "text/plain": [
       "5"
      ]
     },
     "execution_count": 94,
     "metadata": {},
     "output_type": "execute_result"
    }
   ],
   "source": [
    "choose_best_feature(data)"
   ]
  },
  {
   "cell_type": "code",
   "execution_count": 95,
   "metadata": {},
   "outputs": [
    {
     "ename": "SyntaxError",
     "evalue": "can't assign to operator (<ipython-input-95-8e15050c2d04>, line 12)",
     "output_type": "error",
     "traceback": [
      "\u001b[0;36m  File \u001b[0;32m\"<ipython-input-95-8e15050c2d04>\"\u001b[0;36m, line \u001b[0;32m12\u001b[0m\n\u001b[0;31m    G - 1 -= Pr^2\u001b[0m\n\u001b[0m    ^\u001b[0m\n\u001b[0;31mSyntaxError\u001b[0m\u001b[0;31m:\u001b[0m can't assign to operator\n"
     ]
    }
   ],
   "source": [
    "def gini_index(data):\n",
    "    S = len(data)\n",
    "    label_counts = {}\n",
    "    for feat_vec in data:\n",
    "        cur_label = feat_vec[-1]\n",
    "        if cur_label not in label_counts.keys():\n",
    "            label_counts[cur_label] = 0\n",
    "        label_counts[cur_label] += 1\n",
    "    E = 0.000\n",
    "    for key in label_counts:\n",
    "        Pr = float(label_counts[key])/S\n",
    "        GI - 1 -= Pr^2\n",
    "    return GI"
   ]
  },
  {
   "cell_type": "code",
   "execution_count": 1,
   "metadata": {},
   "outputs": [
    {
     "ename": "SyntaxError",
     "evalue": "can't assign to operator (<ipython-input-1-fa361b4457db>, line 12)",
     "output_type": "error",
     "traceback": [
      "\u001b[0;36m  File \u001b[0;32m\"<ipython-input-1-fa361b4457db>\"\u001b[0;36m, line \u001b[0;32m12\u001b[0m\n\u001b[0;31m    ME - 1 -= Pr^2\u001b[0m\n\u001b[0m    ^\u001b[0m\n\u001b[0;31mSyntaxError\u001b[0m\u001b[0;31m:\u001b[0m can't assign to operator\n"
     ]
    }
   ],
   "source": [
    "def majority_error(data):\n",
    "    S = len(data)\n",
    "    label_counts = {}\n",
    "    for feat_vec in data:\n",
    "        cur_label = feat_vec[-1]\n",
    "        if cur_label not in label_counts.keys():\n",
    "            label_counts[cur_label] = 0\n",
    "        label_counts[cur_label] += 1\n",
    "    E = 0.000\n",
    "    for key in label_counts:\n",
    "        Pr = float(label_counts[key])/S\n",
    "        ME - 1 -= Pr^2\n",
    "    return ME"
   ]
  },
  {
   "cell_type": "code",
   "execution_count": null,
   "metadata": {},
   "outputs": [],
   "source": []
  },
  {
   "cell_type": "code",
   "execution_count": null,
   "metadata": {},
   "outputs": [],
   "source": []
  },
  {
   "cell_type": "code",
   "execution_count": null,
   "metadata": {},
   "outputs": [],
   "source": []
  },
  {
   "cell_type": "code",
   "execution_count": null,
   "metadata": {},
   "outputs": [],
   "source": []
  },
  {
   "cell_type": "code",
   "execution_count": null,
   "metadata": {},
   "outputs": [],
   "source": []
  },
  {
   "cell_type": "code",
   "execution_count": null,
   "metadata": {},
   "outputs": [],
   "source": []
  }
 ],
 "metadata": {
  "kernelspec": {
   "display_name": "Python 3",
   "language": "python",
   "name": "python3"
  },
  "language_info": {
   "codemirror_mode": {
    "name": "ipython",
    "version": 3
   },
   "file_extension": ".py",
   "mimetype": "text/x-python",
   "name": "python",
   "nbconvert_exporter": "python",
   "pygments_lexer": "ipython3",
   "version": "3.7.6"
  }
 },
 "nbformat": 4,
 "nbformat_minor": 4
}
