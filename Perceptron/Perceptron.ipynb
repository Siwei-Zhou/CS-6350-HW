{
  "nbformat": 4,
  "nbformat_minor": 0,
  "metadata": {
    "colab": {
      "provenance": []
    },
    "kernelspec": {
      "name": "python3",
      "display_name": "Python 3"
    },
    "language_info": {
      "name": "python"
    }
  },
  "cells": [
    {
      "cell_type": "markdown",
      "source": [
        "We will implement Perceptron for a binary classification task — bank-note authen- tication. Please download the data “bank-note.zip” from Canvas. The features and labels are listed in the file “bank-note/data-desc.txt”. The training data are stored in the file “bank-note/train.csv”, consisting of 872 examples. The test data are stored in “bank-note/test.csv”, and comprise of 500 examples. In both the training and testing datasets, feature values and labels are separated by commas."
      ],
      "metadata": {
        "id": "0eT-UtKq1-l5"
      }
    },
    {
      "cell_type": "markdown",
      "source": [
        "Implement the standard Perceptron. Set the maximum number of epochs T to 10. Report your learned weight vector, and the average prediction error on the test dataset."
      ],
      "metadata": {
        "id": "24miCsX72CpE"
      }
    },
    {
      "cell_type": "code",
      "execution_count": 38,
      "metadata": {
        "id": "7_MNi8ot15pH"
      },
      "outputs": [],
      "source": [
        "import os, math\n",
        "import numpy as np\n",
        "import pandas as pd\n",
        "import matplotlib.pyplot as mp\n",
        "%matplotlib inline\n",
        "seed = np.random.seed"
      ]
    },
    {
      "cell_type": "code",
      "source": [
        "test = pd.read_csv('/content/sample_data/test.csv')\n",
        "train = pd.read_csv('/content/sample_data/train.csv')\n",
        "test = test.values\n",
        "train = train.values"
      ],
      "metadata": {
        "id": "6TzHNFKD3Cyl"
      },
      "execution_count": 39,
      "outputs": []
    },
    {
      "cell_type": "code",
      "source": [
        "print(test[0:9,:])"
      ],
      "metadata": {
        "colab": {
          "base_uri": "https://localhost:8080/"
        },
        "id": "pWPUMp2n3ZO7",
        "outputId": "d4b08127-0a83-4720-c956-2d7543dbc9a9"
      },
      "execution_count": 40,
      "outputs": [
        {
          "output_type": "stream",
          "name": "stdout",
          "text": [
            "[[ 2.8521    9.171    -3.6461   -1.2047    0.      ]\n",
            " [ 5.2418   10.5388   -4.1174   -4.2797    0.      ]\n",
            " [-2.2623   12.1177    0.28846  -7.7581    0.      ]\n",
            " [ 0.55298  -3.4619    1.7048    1.1008    1.      ]\n",
            " [ 4.1542    7.2756   -2.4766   -1.2099    0.      ]\n",
            " [-1.7279   -6.841     8.9494    0.68058   1.      ]\n",
            " [-1.4454   -8.4385    8.8483    0.96894   1.      ]\n",
            " [ 4.5459    8.1674   -2.4586   -1.4621    0.      ]\n",
            " [-0.048008 -0.56078   7.7215    0.453     0.      ]]\n"
          ]
        }
      ]
    },
    {
      "cell_type": "code",
      "source": [
        "train_x = np.array(train[:, :-1])\n",
        "test_x = np.array(test[:, :-1])\n",
        "train_y = np.array(train[:, -1])\n",
        "test_y = np.array(test[:, -1])\n",
        "train_y = train_y.astype('int')\n",
        "test_y = test_y.astype('int')"
      ],
      "metadata": {
        "id": "NyDpjQCz3DM3"
      },
      "execution_count": 41,
      "outputs": []
    },
    {
      "cell_type": "code",
      "source": [
        "print(test_y[0:9])"
      ],
      "metadata": {
        "colab": {
          "base_uri": "https://localhost:8080/"
        },
        "id": "UfMZ_SpD8odX",
        "outputId": "c4bcc04e-d01e-479b-b8c4-e1a4e88ce15f"
      },
      "execution_count": 42,
      "outputs": [
        {
          "output_type": "stream",
          "name": "stdout",
          "text": [
            "[0 0 0 1 0 1 1 0 0]\n"
          ]
        }
      ]
    },
    {
      "cell_type": "code",
      "source": [
        "train_y[train_y==0] = -1\n",
        "test_y[test_y==0] = -1\n",
        "print(test_y[0:9])"
      ],
      "metadata": {
        "colab": {
          "base_uri": "https://localhost:8080/"
        },
        "id": "RtFlzWvQ4AQj",
        "outputId": "fcc5f185-7d67-4ed4-9f55-6bc7146f5290"
      },
      "execution_count": 43,
      "outputs": [
        {
          "output_type": "stream",
          "name": "stdout",
          "text": [
            "[-1 -1 -1  1 -1  1  1 -1 -1]\n"
          ]
        }
      ]
    },
    {
      "cell_type": "code",
      "source": [
        "#set initial seed\n",
        "s = 1"
      ],
      "metadata": {
        "id": "IwC7c8pbgrgm"
      },
      "execution_count": 8,
      "outputs": []
    },
    {
      "cell_type": "code",
      "source": [
        "class Perceptron(object):\n",
        "    def __init__(self, r=0.01, T=10, seed=s):\n",
        "        self.r = r\n",
        "        self.T = T\n",
        "        self.seed = seed\n",
        "    \n",
        "    def FinalInput(self, X):\n",
        "        return np.dot(X, self.w[1:]) + self.w[0]\n",
        "            \n",
        "    def Fit(self, X, y):\n",
        "        rnd = np.random.RandomState(self.seed)\n",
        "        self.w = rnd.normal(loc=0.0, scale=0.01, size=1+X.shape[1])\n",
        "        self.errors_list = []\n",
        "        for epoch in range(self.T):\n",
        "            errors = 0.0\n",
        "            for i in range(len(y)):\n",
        "                xi = X[i]\n",
        "                yi = y[i]\n",
        "                output = self.Predict(xi)\n",
        "                error = (yi - output)\n",
        "                self.w[1:] += self.r * error * xi\n",
        "                self.w[0] += self.r * error\n",
        "                errors += int(error != 0.0)\n",
        "            self.errors_list.append(errors)\n",
        "        return self\n",
        "    \n",
        "    def Predict(self, X):\n",
        "        return np.where(self.FinalInput(X) >= 0.0, 1, -1)"
      ],
      "metadata": {
        "id": "JNJcB5wbDnl9"
      },
      "execution_count": 28,
      "outputs": []
    },
    {
      "cell_type": "code",
      "source": [
        "E = 0\n",
        "n = 20\n",
        "for i in range(n):\n",
        "    p = Perceptron(r=0.01, T=10, seed=s)\n",
        "    p.Fit(train_x, train_y)\n",
        "    predicton = p.Predict(test_x)\n",
        "    print(p.w)\n",
        "    print('Prediction error: %d' % (test_y != predicton).sum())\n",
        "    E += (test_y != predicton).sum()\n",
        "    s = int(np.random.rand()*n*10)\n",
        "\n",
        "print('Average prediction error: ', E / n)"
      ],
      "metadata": {
        "colab": {
          "base_uri": "https://localhost:8080/"
        },
        "id": "VuwAg4jiCMND",
        "outputId": "f7377254-5769-4d50-f1c2-c07448504849"
      },
      "execution_count": 29,
      "outputs": [
        {
          "output_type": "stream",
          "name": "stdout",
          "text": [
            "[ 1.02496714 -1.18213144 -0.89556831 -0.85497493 -0.09236527]\n",
            "Prediction error: 9\n",
            "[ 1.08750722 -1.32198411 -0.82404387 -0.82467923 -0.21460653]\n",
            "Prediction error: 7\n",
            "[ 1.03987675 -1.20161003 -0.86141931 -0.92469211 -0.0676128 ]\n",
            "Prediction error: 6\n",
            "[ 1.01290498 -1.21825644 -0.75258518 -0.83122749 -0.20264361]\n",
            "Prediction error: 7\n",
            "[ 1.06969685 -1.2689439  -0.84397007 -0.75162169 -0.19679622]\n",
            "Prediction error: 9\n",
            "[ 1.02264163 -1.2834524  -0.77569395 -0.74660963 -0.09265707]\n",
            "Prediction error: 10\n",
            "[ 1.03899853 -1.24361775 -0.82273389 -0.89759269 -0.07182081]\n",
            "Prediction error: 6\n",
            "[ 1.06026375 -1.26168776 -0.80464386 -0.88018802 -0.15594227]\n",
            "Prediction error: 7\n",
            "[ 1.08288479 -1.25974438 -0.80819444 -0.87078476 -0.15101412]\n",
            "Prediction error: 6\n",
            "[ 1.03055524 -1.21900454 -0.80943253 -0.82469208 -0.16066952]\n",
            "Prediction error: 7\n",
            "[ 1.05668068 -1.28464636 -0.83629323 -0.90023161 -0.12464666]\n",
            "Prediction error: 7\n",
            "[ 1.11329212 -1.28178231 -0.925531   -0.82037542 -0.22443992]\n",
            "Prediction error: 8\n",
            "[ 1.03868388 -1.27118267 -0.79799458 -0.86273478 -0.1543744 ]\n",
            "Prediction error: 7\n",
            "[ 0.99108071 -1.16446256 -0.86044036 -0.92281809 -0.07870758]\n",
            "Prediction error: 6\n",
            "[ 1.02666988 -1.19791185 -0.83437379 -0.90017056 -0.12678362]\n",
            "Prediction error: 6\n",
            "[ 1.03078229 -1.21746218 -0.78759961 -0.86590785 -0.18035986]\n",
            "Prediction error: 6\n",
            "[ 0.98962357 -1.26104222 -0.80667259 -0.87191328 -0.10374812]\n",
            "Prediction error: 7\n",
            "[ 1.06969685 -1.2689439  -0.84397007 -0.75162169 -0.19679622]\n",
            "Prediction error: 9\n",
            "[ 1.05843615 -1.22438162 -0.81047948 -0.87348808 -0.05364027]\n",
            "Prediction error: 6\n",
            "[ 1.13585243 -1.26974251 -0.77360368 -0.77316467 -0.28562472]\n",
            "Prediction error: 7\n",
            "Average prediction error:  7.15\n"
          ]
        }
      ]
    },
    {
      "cell_type": "markdown",
      "source": [
        "Implement the voted Perceptron. Set the maximum number of epochs T to 10. Report the list of the distinct weight vectors and their counts — the number of correctly predicted training examples. Using this set of weight vectors to predict each test example. Report the average test error."
      ],
      "metadata": {
        "id": "yfYEvBVW2DOd"
      }
    },
    {
      "cell_type": "code",
      "source": [
        "class VotedPerceptron(object):\n",
        "    def __init__(self, r=0.01, T=10, seed=1):\n",
        "        self.r = r\n",
        "        self.T = T\n",
        "        self.seed = seed\n",
        "\n",
        "    def FinalInput(self, X):\n",
        "        return np.dot(X, self.w[1:]) + self.w[0]\n",
        "    def Fit(self, X, y):\n",
        "        rnd = np.random.RandomState(self.seed)\n",
        "        self.w = rnd.normal(loc=0.0, scale=0.01, size=1+X.shape[1])\n",
        "        self.errors_list = []\n",
        "        for epoch in range(self.T):\n",
        "            errors = 0.0\n",
        "            for i in range(len(y)):\n",
        "                xi = X[i]\n",
        "                yi = y[i]\n",
        "                output = self.Predict(xi)\n",
        "                error = (yi - output)\n",
        "                self.w[1:] += self.r * error * xi\n",
        "                self.w[0] += self.r * error\n",
        "                errors += int(error != 0.0)\n",
        "            self.errors_list.append(errors)\n",
        "        return self\n",
        "    def Fit(self, X, y):\n",
        "        rnd = np.random.RandomState(self.seed)\n",
        "        self.w = rnd.normal(loc=0.0, scale=0.0, size=1+X.shape[1])\n",
        "        self.c = 0\n",
        "        self.errors_list = []\n",
        "        self.List = []\n",
        "        for m in range(self.T):\n",
        "            errors = 0.0\n",
        "            for i in range(len(y)):\n",
        "                xi = X[i]\n",
        "                yi = y[i]\n",
        "                output = self.Predict(xi)\n",
        "                error = (yi - output)\n",
        "            if error != 0.0:\n",
        "                self.w[m+1,1:] = self.w[m,1:] + self.r * error * xi\n",
        "                self.w[m+1,0] = self.w[m,0] + self.r * error\n",
        "                self.c = 1\n",
        "            else:\n",
        "                self.c += 1\n",
        "            errors += int(error != 0.0)\n",
        "            self.List[m,:-1] = self.w[m,:]\n",
        "            self.List[m,-1] = self.c\n",
        "            self.errors_list.append(errors)\n",
        "        return self\n",
        "    \n",
        "    def Predict(self, X):\n",
        "        return np.where(self.FinalInput(X) >= 0.0, 1, -1)"
      ],
      "metadata": {
        "id": "SdpJbMjd2DqO"
      },
      "execution_count": 75,
      "outputs": []
    },
    {
      "cell_type": "code",
      "source": [
        "    p = Perceptron(r=0.01, T=10, seed=1)\n",
        "    p.Fit(train_x, train_y)\n",
        "    predicton = p.Predict(test_x)\n",
        "    print(p.List)\n",
        "    print('Average prediction error: %d' % (test_y != predicton).sum())"
      ],
      "metadata": {
        "colab": {
          "base_uri": "https://localhost:8080/",
          "height": 229
        },
        "id": "O7EuLsOqmpfP",
        "outputId": "42bba4de-512d-4d1d-af15-241cdda03bcd"
      },
      "execution_count": 67,
      "outputs": [
        {
          "output_type": "error",
          "ename": "AttributeError",
          "evalue": "ignored",
          "traceback": [
            "\u001b[0;31m---------------------------------------------------------------------------\u001b[0m",
            "\u001b[0;31mAttributeError\u001b[0m                            Traceback (most recent call last)",
            "\u001b[0;32m<ipython-input-67-1261a7a40a41>\u001b[0m in \u001b[0;36m<module>\u001b[0;34m\u001b[0m\n\u001b[1;32m      2\u001b[0m \u001b[0mp\u001b[0m\u001b[0;34m.\u001b[0m\u001b[0mFit\u001b[0m\u001b[0;34m(\u001b[0m\u001b[0mtrain_x\u001b[0m\u001b[0;34m,\u001b[0m \u001b[0mtrain_y\u001b[0m\u001b[0;34m)\u001b[0m\u001b[0;34m\u001b[0m\u001b[0;34m\u001b[0m\u001b[0m\n\u001b[1;32m      3\u001b[0m \u001b[0mpredicton\u001b[0m \u001b[0;34m=\u001b[0m \u001b[0mp\u001b[0m\u001b[0;34m.\u001b[0m\u001b[0mPredict\u001b[0m\u001b[0;34m(\u001b[0m\u001b[0mtest_x\u001b[0m\u001b[0;34m)\u001b[0m\u001b[0;34m\u001b[0m\u001b[0;34m\u001b[0m\u001b[0m\n\u001b[0;32m----> 4\u001b[0;31m \u001b[0mprint\u001b[0m\u001b[0;34m(\u001b[0m\u001b[0mp\u001b[0m\u001b[0;34m.\u001b[0m\u001b[0mList\u001b[0m\u001b[0;34m)\u001b[0m\u001b[0;34m\u001b[0m\u001b[0;34m\u001b[0m\u001b[0m\n\u001b[0m\u001b[1;32m      5\u001b[0m \u001b[0mprint\u001b[0m\u001b[0;34m(\u001b[0m\u001b[0;34m'Average prediction error: %d'\u001b[0m \u001b[0;34m%\u001b[0m \u001b[0;34m(\u001b[0m\u001b[0mtest_y\u001b[0m \u001b[0;34m!=\u001b[0m \u001b[0mpredicton\u001b[0m\u001b[0;34m)\u001b[0m\u001b[0;34m.\u001b[0m\u001b[0msum\u001b[0m\u001b[0;34m(\u001b[0m\u001b[0;34m)\u001b[0m\u001b[0;34m)\u001b[0m\u001b[0;34m\u001b[0m\u001b[0;34m\u001b[0m\u001b[0m\n",
            "\u001b[0;31mAttributeError\u001b[0m: 'Perceptron' object has no attribute 'List'"
          ]
        }
      ]
    },
    {
      "cell_type": "markdown",
      "source": [
        "Implement the average Perceptron. Set the maximum number of epochs T to 10. Report your learned weight vector. Comparing with the list of weight vectors from (b), what can you observe? Report the average prediction error on the test data."
      ],
      "metadata": {
        "id": "QtMALeku2El_"
      }
    },
    {
      "cell_type": "code",
      "source": [],
      "metadata": {
        "id": "YqqnBhpi2EJJ"
      },
      "execution_count": 71,
      "outputs": []
    },
    {
      "cell_type": "markdown",
      "source": [
        "Compare the average prediction errors for the three methods. What do you conclude?"
      ],
      "metadata": {
        "id": "HREaKlXi2D7b"
      }
    },
    {
      "cell_type": "code",
      "source": [
        "print(1+train_x.shape[1])"
      ],
      "metadata": {
        "colab": {
          "base_uri": "https://localhost:8080/"
        },
        "id": "ek7nIMX92Fjo",
        "outputId": "7ca90098-8ff6-4c97-ca24-b982d667a1b7"
      },
      "execution_count": 44,
      "outputs": [
        {
          "output_type": "stream",
          "name": "stdout",
          "text": [
            "5\n"
          ]
        }
      ]
    }
  ]
}